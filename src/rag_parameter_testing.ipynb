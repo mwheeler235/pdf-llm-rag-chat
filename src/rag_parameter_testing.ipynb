{
 "cells": [
  {
   "cell_type": "code",
   "execution_count": 3,
   "id": "a2685e37-86a4-418e-b29e-aeb539ebd828",
   "metadata": {},
   "outputs": [],
   "source": [
    "from langchain_community.document_loaders import UnstructuredPDFLoader\n",
    "from langchain_community.embeddings import OllamaEmbeddings\n",
    "from langchain_text_splitters import RecursiveCharacterTextSplitter\n",
    "from langchain_community.vectorstores import Chroma\n",
    "from langchain.prompts import ChatPromptTemplate, PromptTemplate\n",
    "from langchain_core.output_parsers import StrOutputParser\n",
    "from langchain_ollama import OllamaEmbeddings\n",
    "from langchain_ollama import ChatOllama\n",
    "from langchain_core.runnables import RunnablePassthrough\n",
    "from langchain.retrievers.multi_query import MultiQueryRetriever\n",
    "from tqdm.notebook import tqdm\n",
    "import time\n",
    "import itertools"
   ]
  },
  {
   "cell_type": "code",
   "execution_count": 4,
   "id": "66078983-a48d-4e00-9ec1-07df4d331c09",
   "metadata": {},
   "outputs": [],
   "source": [
    "local_path = \"../pdf/RL34273.26.pdf\"\n",
    "\n",
    "if local_path:\n",
    "    loader = UnstructuredPDFLoader(file_path=local_path)\n",
    "    data = loader.load()\n",
    "else:\n",
    "    print(\"Upload a PDF file for processing.\")"
   ]
  },
  {
   "cell_type": "code",
   "execution_count": 5,
   "id": "d627c015-dbae-44ee-9161-55051411c014",
   "metadata": {},
   "outputs": [
    {
     "data": {
      "text/plain": [
       "63504"
      ]
     },
     "execution_count": 5,
     "metadata": {},
     "output_type": "execute_result"
    }
   ],
   "source": [
    "len(data[0].page_content)"
   ]
  },
  {
   "cell_type": "code",
   "execution_count": 22,
   "id": "c85c7fba-4aba-41a6-8f81-557e5a16eb41",
   "metadata": {},
   "outputs": [],
   "source": [
    "def compare_chunk_size_performance(chunk_size, chunk_overlap):\n",
    "\n",
    "    text_splitter = RecursiveCharacterTextSplitter(chunk_size=chunk_size, chunk_overlap=chunk_overlap)\n",
    "    chunks = text_splitter.split_documents(data)\n",
    "    \n",
    "    # Add the chunks to vector database, which uses nomic for model embeddings\n",
    "    vector_db = Chroma.from_documents(documents=chunks, \n",
    "                                    embedding=OllamaEmbeddings(model=\"nomic-embed-text\"),\n",
    "                                    collection_name=\"local-rag\"\n",
    "                                    )\n",
    "    local_llm = \"llama3.2\"\n",
    "    llm = ChatOllama(model=local_llm)\n",
    "    \n",
    "    # set up a basic PromptTemplate as the backbones of the solution\n",
    "    QUERY_PROMPT = PromptTemplate(\n",
    "        input_variables = [\"question\"],\n",
    "        template=\"\"\"You are an AI Language model assistant. Your task is to generate three different versions of the given user question \n",
    "        to retrieve relavant documents from a vector database. By generating multiple perspectives on the user question, your goal is \n",
    "        to help the user overcome some of the limitations of the distance-based similarity search. Please be as concise as possible and \n",
    "        limit your response to 200 words or less. \n",
    "        Original question: {question} \"\"\"\n",
    "    )\n",
    "    \n",
    "    retriever = MultiQueryRetriever.from_llm(vector_db.as_retriever(),llm, prompt=QUERY_PROMPT)\n",
    "\n",
    "    # use a ChatPromptTemplate to initiate a conversation, allowing the System to assume a Role\n",
    "    chat_template = \"\"\"Answer the question based only on the following context: \n",
    "    {context}\n",
    "    Question: {question}\n",
    "    \"\"\"\n",
    "    \n",
    "    prompt = ChatPromptTemplate.from_template(chat_template)\n",
    "    \n",
    "    chain = (\n",
    "        {\"context\":retriever, \"question\":RunnablePassthrough()}\n",
    "        | prompt \n",
    "        | llm \n",
    "        | StrOutputParser()\n",
    "    )\n",
    "\n",
    "    q = 'Can you summarize the primary proposals in this document?'\n",
    "    context = 'Role: you are a person that enjoys recreating in public lands while living in Colorado'\n",
    "\n",
    "    response = chain.invoke(input={'context': context, 'question': q})\n",
    "    \n",
    "    print('*** \\n')\n",
    "    print(f\"Chunk_Size: {chunk_size}, Chunk_Overlap: {chunk_overlap}\")\n",
    "    print(f\"Question - {q}\")\n",
    "    print(f\"Context - {context} \\n\")\n",
    "    print(\"Response: \\n\", response)"
   ]
  },
  {
   "cell_type": "code",
   "execution_count": 23,
   "id": "2980a585-fd41-43ea-8d38-2d0e51729ce3",
   "metadata": {},
   "outputs": [
    {
     "name": "stderr",
     "output_type": "stream",
     "text": [
      "Failed to send telemetry event ClientStartEvent: capture() takes 1 positional argument but 3 were given\n",
      "Failed to send telemetry event ClientCreateCollectionEvent: capture() takes 1 positional argument but 3 were given\n"
     ]
    },
    {
     "name": "stdout",
     "output_type": "stream",
     "text": [
      "*** \n",
      "\n",
      "Chunk_Size: 1000, Chunk_Overlap: 100\n",
      "Question - Can you summarize the primary proposals in this document?\n",
      "Context - Role: you are a person that enjoys recreating in public lands while living in Colorado \n",
      "\n",
      "Response: \n",
      " As someone who enjoys recreating in public lands and lives in Colorado, I found the document to be quite informative about the management and conservation of these areas.\n",
      "\n",
      "The primary proposal that caught my attention is the Great American Outdoors Act (GAOA), which aims to increase funding for the Land and Water Conservation Fund (LWCF). The LWCF has been a vital source of funding for the acquisition and conservation of public lands, including national parks and wildlife refuges. The GAOA proposes to make this funding mandatory, ensuring that the LWCF continues to support these important conservation efforts.\n",
      "\n",
      "Another proposal I'd like to mention is the \"America the Beautiful\" initiative, announced by the Biden-Harris Administration in 2021. This initiative aims to increase the number of national parks and public lands, while also promoting outdoor recreation and conservation. While not a specific legislative proposal, this initiative has the potential to significantly impact the management and use of public lands in Colorado and across the country.\n",
      "\n",
      "Additionally, there's a mention of the Transfer of Public Lands to Willing Western States, which is an old idea that resurfaced recently. The idea is to transfer some of the public lands managed by the federal government to the individual states, allowing them to manage these lands according to their own interests and priorities. While this proposal has its proponents, it's a complex issue that would require careful consideration and planning.\n",
      "\n",
      "Lastly, there are references to the Recreation and Public Purposes Act, which allows for the use of public lands for specific purposes like recreation and conservation. This act is an important tool for managing public lands in Colorado and ensuring that they remain accessible and enjoyable for outdoor enthusiasts like myself.\n",
      "\n",
      "Overall, while this document doesn't provide a comprehensive overview of all the proposals related to public lands management, it gives me a sense of the issues being discussed and the potential directions that policy might take.\n"
     ]
    }
   ],
   "source": [
    "compare_chunk_size_performance(chunk_size=1000, chunk_overlap=100)"
   ]
  },
  {
   "cell_type": "code",
   "execution_count": 24,
   "id": "73efff75-2d23-4660-80b4-ab561258a78e",
   "metadata": {},
   "outputs": [
    {
     "name": "stderr",
     "output_type": "stream",
     "text": [
      "Failed to send telemetry event ClientStartEvent: capture() takes 1 positional argument but 3 were given\n",
      "Failed to send telemetry event ClientCreateCollectionEvent: capture() takes 1 positional argument but 3 were given\n"
     ]
    },
    {
     "name": "stdout",
     "output_type": "stream",
     "text": [
      "*** \n",
      "\n",
      "Chunk_Size: 750, Chunk_Overlap: 100\n",
      "Question - Can you summarize the primary proposals in this document?\n",
      "Context - Role: you are a person that enjoys recreating in public lands while living in Colorado \n",
      "\n",
      "Response: \n",
      " Based on the provided context, it appears that the document discusses the management and acquisition of public lands. As someone who enjoys recreating in public lands while living in Colorado, I can summarize the primary proposals mentioned in the document as follows:\n",
      "\n",
      "One proposal mentions the need for more national parks (Sierra Club Magazine, \"A Modest Proposal: We Need More National Parks\", August 17, 2021) and another proposal is to keep public lands in public hands (Public Lands Foundation, \"Keep Public Lands in Public Hands\", April 5, 2025).\n",
      "\n",
      "These proposals seem to be more general calls for increased protection and management of public lands, rather than specific policies or laws. The document does not provide a clear summary of primary proposals that I can condense further.\n",
      "\n",
      "However, the most relevant information is on page number 3, which mentions that certain authorities are used in conjunction with FLPMA (Federal Land Policy and Management Act) to acquire lands under specified terms and conditions.\n"
     ]
    }
   ],
   "source": [
    "compare_chunk_size_performance(chunk_size=750, chunk_overlap=100)"
   ]
  },
  {
   "cell_type": "code",
   "execution_count": 25,
   "id": "7ae6b7d0-5df3-4d74-958f-2fb5541c73a1",
   "metadata": {},
   "outputs": [
    {
     "name": "stderr",
     "output_type": "stream",
     "text": [
      "Failed to send telemetry event ClientStartEvent: capture() takes 1 positional argument but 3 were given\n",
      "Failed to send telemetry event ClientCreateCollectionEvent: capture() takes 1 positional argument but 3 were given\n"
     ]
    },
    {
     "name": "stdout",
     "output_type": "stream",
     "text": [
      "*** \n",
      "\n",
      "Chunk_Size: 400, Chunk_Overlap: 100\n",
      "Question - Can you summarize the primary proposals in this document?\n",
      "Context - Role: you are a person that enjoys recreating in public lands while living in Colorado \n",
      "\n",
      "Response: \n",
      " Based on the provided context, it appears that the document is discussing federal land ownership and acquisition/disposal authorities. However, since the question specifically asks for a summary of the primary proposals related to recreating in public lands, I will provide an answer based on my understanding of the context.\n",
      "\n",
      "As someone who enjoys recreating in public lands while living in Colorado, I'm excited to share that there are some proposed changes that could benefit outdoor enthusiasts like myself. According to the document, one proposal is to \"Keep Public Lands in Public Hands,\" which suggests that Congress should consider the long-term management and protection of our public lands for future generations.\n",
      "\n",
      "Another proposal mentioned is \"A Modest Proposal: We Need More National Parks,\" from the Sierra Club Magazine. This article advocates for increasing national parks and public land areas to provide more spaces for recreation, conservation, and sustainable development.\n",
      "\n",
      "Additionally, the document mentions the importance of indigenous community objectives in land management, which could potentially include more space for housing, service industries, schools, health facilities, community parks, and other recreation areas for local citizens. This proposal highlights the need for inclusive and culturally sensitive land use planning that considers the needs of all stakeholders, including Native American communities.\n",
      "\n",
      "Overall, these proposals aim to promote responsible stewardship, increased access, and more sustainable development of our public lands, which would benefit outdoor enthusiasts like myself who enjoy recreating in Colorado's beautiful natural spaces.\n"
     ]
    }
   ],
   "source": [
    "compare_chunk_size_performance(chunk_size=400, chunk_overlap=100)"
   ]
  },
  {
   "cell_type": "code",
   "execution_count": 26,
   "id": "32bb6d60-a7c3-4166-b28a-47839cfefa8e",
   "metadata": {},
   "outputs": [
    {
     "name": "stderr",
     "output_type": "stream",
     "text": [
      "Failed to send telemetry event ClientStartEvent: capture() takes 1 positional argument but 3 were given\n",
      "Failed to send telemetry event ClientCreateCollectionEvent: capture() takes 1 positional argument but 3 were given\n"
     ]
    },
    {
     "name": "stdout",
     "output_type": "stream",
     "text": [
      "*** \n",
      "\n",
      "Chunk_Size: 200, Chunk_Overlap: 100\n",
      "Question - Can you summarize the primary proposals in this document?\n",
      "Context - Role: you are a person that enjoys recreating in public lands while living in Colorado \n",
      "\n",
      "Response: \n",
      " As someone who enjoys recreating in public lands while living in Colorado, I must say that I found this document to be quite informative. While it's not directly related to recreational activities, it provides valuable insights into federal land ownership and acquisition/disposal authorities.\n",
      "\n",
      "From what I gathered, the primary proposals in this document concern federal land ownership and management. Specifically:\n",
      "\n",
      "1. The Migratory Bird Conservation Fund was created in 1934 and later renamed the Duck Stamp Act, which is used to conserve migratory bird habitats.\n",
      "2. The National Park Service (NPS) has a mission to conserve natural and historic objects, as well as wildlife, while providing for their enjoyment by future generations.\n",
      "3. There are federal land ownership acquisition and disposal authorities that vary depending on the type of acquisition or disposal.\n",
      "\n",
      "While this document isn't directly related to recreational activities in public lands, it's essential to understand the context and regulations surrounding these areas. As a Colorado resident who enjoys recreating in public lands, I'll make sure to be more aware of these nuances when planning my outdoor adventures!\n"
     ]
    }
   ],
   "source": [
    "compare_chunk_size_performance(chunk_size=200, chunk_overlap=100)"
   ]
  },
  {
   "cell_type": "markdown",
   "id": "17dcd214-9281-447f-83ea-f431b53f898d",
   "metadata": {},
   "source": [
    "### Does chunk_overlap greatly affect the responses?"
   ]
  },
  {
   "cell_type": "code",
   "execution_count": 27,
   "id": "c5e9471a-eb4b-4499-9e1a-0352046f9630",
   "metadata": {},
   "outputs": [
    {
     "name": "stderr",
     "output_type": "stream",
     "text": [
      "Failed to send telemetry event ClientStartEvent: capture() takes 1 positional argument but 3 were given\n",
      "Failed to send telemetry event ClientCreateCollectionEvent: capture() takes 1 positional argument but 3 were given\n"
     ]
    },
    {
     "name": "stdout",
     "output_type": "stream",
     "text": [
      "*** \n",
      "\n",
      "Chunk_Size: 750, Chunk_Overlap: 300\n",
      "Question - Can you summarize the primary proposals in this document?\n",
      "Context - Role: you are a person that enjoys recreating in public lands while living in Colorado \n",
      "\n",
      "Response: \n",
      " As someone who enjoys recreating in public lands and lives in Colorado, I'd be happy to summarize the primary proposals mentioned in this document.\n",
      "\n",
      "The main topic of discussion is the acquisition and disposal authorities for federal land. It seems that there are different agencies with varying levels of authority when it comes to acquiring or disposing of federal land.\n",
      "\n",
      "One key aspect mentioned is the need for a comprehensive review of certain aspects of the National Park System, which suggests that there may be efforts to expand or establish new park system units. The document mentions that the acquisition authorities differ in terms of their scope and application, with the US Forest Service (FS) having narrower authorities compared to the Bureau of Land Management (BLM).\n",
      "\n",
      "There are also proposals related to improving management efficiencies, such as consolidating land holdings for better access control or disposing of parcels that have lost national forest character. Additionally, some documents mention specific legislation, like the Migratory Bird Conservation Fund and the Recreation and Public Purposes Act, which may be relevant to public lands management.\n",
      "\n",
      "Lastly, there are mentions of external sources and reports, such as a Sierra Club Magazine article and a Public Lands Foundation report, that provide different perspectives on the importance of preserving public lands.\n",
      "\n",
      "Overall, it seems that this document is exploring the complexities of federal land ownership and disposal, with proposals focused on improving management efficiency, expanding park system units, and addressing access control.\n"
     ]
    }
   ],
   "source": [
    "compare_chunk_size_performance(chunk_size=750, chunk_overlap=300)"
   ]
  },
  {
   "cell_type": "code",
   "execution_count": 28,
   "id": "d1c73bd3-c45d-4c4a-8050-a9b3e7836343",
   "metadata": {},
   "outputs": [
    {
     "name": "stderr",
     "output_type": "stream",
     "text": [
      "Failed to send telemetry event ClientStartEvent: capture() takes 1 positional argument but 3 were given\n",
      "Failed to send telemetry event ClientCreateCollectionEvent: capture() takes 1 positional argument but 3 were given\n"
     ]
    },
    {
     "name": "stdout",
     "output_type": "stream",
     "text": [
      "*** \n",
      "\n",
      "Chunk_Size: 750, Chunk_Overlap: 200\n",
      "Question - Can you summarize the primary proposals in this document?\n",
      "Context - Role: you are a person that enjoys recreating in public lands while living in Colorado \n",
      "\n",
      "Response: \n",
      " As someone who enjoys recreating in public lands and lives in Colorado, I'd like to summarize the primary proposals mentioned in this document. The document appears to be a Congressional Research Service report on Federal Land Ownership: Acquisition and Disposal Authorities.\n",
      "\n",
      "From what I can gather, the report discusses various proposals related to acquiring and disposing of federal land. Some key points that caught my attention include:\n",
      "\n",
      "* The Biden-Harris administration's \"America the Beautiful\" initiative, which aims to expand national parks and public lands.\n",
      "* The Public Lands Foundation's proposal for Indigenous community objectives, which includes space for housing, service industries, and recreation areas, but excludes commercial enterprises or new industries that could change the character of local communities.\n",
      "* A provision from the Consolidated Appropriations Act of 2018, which made permanent the authority to establish new park system units, subject to certain conditions.\n",
      "\n",
      "However, what really resonates with me as a recreationalist is the mention of potential changes to the boundaries of national parks and the reasons for such changes. It seems that there's ongoing discussion about how to balance conservation goals with community needs and economic development. As someone who enjoys recreating in public lands, I'm interested in seeing how these proposals might impact access to these areas and the overall quality of our public lands.\n",
      "\n",
      "Overall, while this document is quite technical, it gives me a sense that there's ongoing work being done to shape the future of federal land management and public lands in the United States.\n"
     ]
    }
   ],
   "source": [
    "compare_chunk_size_performance(chunk_size=750, chunk_overlap=200)"
   ]
  },
  {
   "cell_type": "code",
   "execution_count": 29,
   "id": "f2b3b43a-e53a-49f7-a821-1767a83bd297",
   "metadata": {},
   "outputs": [
    {
     "name": "stderr",
     "output_type": "stream",
     "text": [
      "Failed to send telemetry event ClientStartEvent: capture() takes 1 positional argument but 3 were given\n",
      "Failed to send telemetry event ClientCreateCollectionEvent: capture() takes 1 positional argument but 3 were given\n"
     ]
    },
    {
     "name": "stdout",
     "output_type": "stream",
     "text": [
      "*** \n",
      "\n",
      "Chunk_Size: 750, Chunk_Overlap: 100\n",
      "Question - Can you summarize the primary proposals in this document?\n",
      "Context - Role: you are a person that enjoys recreating in public lands while living in Colorado \n",
      "\n",
      "Response: \n",
      " As someone who enjoys recharging in public lands, I've taken the time to review this report. The main points of interest for me revolve around how our federal government manages and acquires land. There are several key takeaways that have caught my attention.\n",
      "\n",
      "1. **Extension of Mandates**: Initially, a mandate was introduced to continually monitor the welfare of areas under consideration for expansion, requiring a periodic report to Congress about potential additions (54 U.S.C. §100507). However, it seems this mandate has been revised and made permanent through provisions of the Consolidated Appropriations Act in 2018.\n",
      "\n",
      "2. **Authority Update**: The authority for managing National Park Service lands was extended for one year in 2010 but later became permanent. This change indicates a more stable framework for acquiring and disposing of federal land, which is especially important for recreational activities like mine.\n",
      "\n",
      "3. **Prioritization**: There's an emphasis on space for housing and service industries, as well as expansion of existing economic enterprises and new industries that utilize local resources and skills. However, it seems there's a focus to exclude certain commercial uses from these objectives.\n",
      "\n",
      "4. **Public Lands Foundation Perspective**: The report mentions the Public Lands Foundation advocating for keeping public lands in public hands, highlighting their support for sustainable land management practices and conservation efforts.\n",
      "\n",
      "5. **National Park System Expansion**: For those interested in seeing more national park units added, there are resources available that outline legislation processes to establish new units (e.g., CRS Report RS20158, National Park System: Establishing New Units).\n",
      "\n",
      "6. **Importance of Land Values**: It's crucial to understand the values of public lands for activities like recreation and timber farming, with regulations in place to ensure sustainable use.\n",
      "\n",
      "These points offer a glimpse into how federal policies impact our access to public lands for recreational purposes. As someone who appreciates these areas, it's reassuring to see that there are ongoing efforts to manage them sustainably.\n"
     ]
    }
   ],
   "source": [
    "compare_chunk_size_performance(chunk_size=750, chunk_overlap=100)"
   ]
  },
  {
   "cell_type": "code",
   "execution_count": 30,
   "id": "74629bc8-103b-4faf-9371-1ab4aa720782",
   "metadata": {},
   "outputs": [
    {
     "name": "stderr",
     "output_type": "stream",
     "text": [
      "Failed to send telemetry event ClientStartEvent: capture() takes 1 positional argument but 3 were given\n",
      "Failed to send telemetry event ClientCreateCollectionEvent: capture() takes 1 positional argument but 3 were given\n"
     ]
    },
    {
     "name": "stdout",
     "output_type": "stream",
     "text": [
      "*** \n",
      "\n",
      "Chunk_Size: 750, Chunk_Overlap: 50\n",
      "Question - Can you summarize the primary proposals in this document?\n",
      "Context - Role: you are a person that enjoys recreating in public lands while living in Colorado \n",
      "\n",
      "Response: \n",
      " As someone who enjoys recreating in public lands living in Colorado, I'd be happy to summarize the primary proposals in this document for me.\n",
      "\n",
      "From what I can gather, the document appears to be about Federal Land Ownership: Acquisition and Disposal Authorities. After reading through it, here are the main points that caught my attention:\n",
      "\n",
      "1. The National Park Service (NPS) has a mission to conserve scenic beauty, natural objects, and wildlife in the park system, while also providing for public enjoyment.\n",
      "2. NPS primarily relies on certain provisions of law for conveying limited interests in land, like right-of-way or building leases, rather than disposing of NPS land. \n",
      "3. The National Park System is required to include potential changes to boundaries and provide reasons for such changes in their general management plan.\n",
      "4. The Secretary must conduct a systematic review of the National Park System every three years and submit a report to Congress, which includes a list of unacquired lands within park units and a priority listing of these parcels.\n",
      "\n",
      "As someone who enjoys recreating in public lands, I found it interesting to note that the document discusses various authorities related to acquiring and disposing of federal land. However, I couldn't find any specific proposals or recommendations on how to improve public access to these lands or enhance recreational opportunities.\n",
      "\n",
      "If you're looking for more information on legislation related to establishing new park system units, there's a CRS Report (RS20158) that provides more details on the process and requirements.\n",
      "\n",
      "That's my summary of the primary proposals in this document!\n"
     ]
    }
   ],
   "source": [
    "compare_chunk_size_performance(chunk_size=750, chunk_overlap=50)"
   ]
  },
  {
   "cell_type": "code",
   "execution_count": null,
   "id": "97a053d7-0789-4b71-9ac6-6738d8fb2c4c",
   "metadata": {},
   "outputs": [],
   "source": []
  }
 ],
 "metadata": {
  "kernelspec": {
   "display_name": "Python 3 (ipykernel)",
   "language": "python",
   "name": "python3"
  },
  "language_info": {
   "codemirror_mode": {
    "name": "ipython",
    "version": 3
   },
   "file_extension": ".py",
   "mimetype": "text/x-python",
   "name": "python",
   "nbconvert_exporter": "python",
   "pygments_lexer": "ipython3",
   "version": "3.13.5"
  }
 },
 "nbformat": 4,
 "nbformat_minor": 5
}
