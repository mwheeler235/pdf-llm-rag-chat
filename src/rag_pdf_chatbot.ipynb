{
 "cells": [
  {
   "cell_type": "code",
   "execution_count": 1,
   "id": "85bff0e5-6f62-456d-8de9-66bc964de77c",
   "metadata": {},
   "outputs": [],
   "source": [
    "from langchain_community.document_loaders import UnstructuredPDFLoader\n",
    "from langchain_community.embeddings import OllamaEmbeddings\n",
    "from langchain_text_splitters import RecursiveCharacterTextSplitter\n",
    "from langchain_community.vectorstores import Chroma \n",
    "# import chromadb\n",
    "# from langchain_chroma import Chroma\n",
    "from langchain.prompts import ChatPromptTemplate, PromptTemplate\n",
    "from langchain_core.output_parsers import StrOutputParser\n",
    "from langchain_community.chat_models import ChatOllama\n",
    "from langchain_core.runnables import RunnablePassthrough\n",
    "from langchain.retrievers.multi_query import MultiQueryRetriever\n",
    "from tqdm.notebook import tqdm"
   ]
  },
  {
   "cell_type": "code",
   "execution_count": 2,
   "id": "1b87f477-4a21-4956-9390-2a3ea2eb973b",
   "metadata": {},
   "outputs": [],
   "source": [
    "local_path = \"../pdf/BILLS-119hr1eh.pdf\"\n",
    "\n",
    "if local_path:\n",
    "    loader = UnstructuredPDFLoader(file_path=local_path)\n",
    "    data = loader.load()\n",
    "else:\n",
    "    print(\"Upload a PDF file for processing.\")"
   ]
  },
  {
   "cell_type": "code",
   "execution_count": 3,
   "id": "160ce65b-2aab-456c-a834-29275c0185c7",
   "metadata": {},
   "outputs": [
    {
     "data": {
      "text/plain": [
       "1136279"
      ]
     },
     "execution_count": 3,
     "metadata": {},
     "output_type": "execute_result"
    }
   ],
   "source": [
    "len(data[0].page_content)"
   ]
  },
  {
   "cell_type": "code",
   "execution_count": 4,
   "id": "f76fed48-d424-4c98-90dc-2a052fe543ff",
   "metadata": {},
   "outputs": [],
   "source": [
    "#Split and chunk the data\n",
    "text_splitter = RecursiveCharacterTextSplitter(chunk_size=7500, chunk_overlap=100)\n",
    "chunks = text_splitter.split_documents(data)"
   ]
  },
  {
   "cell_type": "code",
   "execution_count": 5,
   "id": "9684af97-2eae-43b0-9fd0-30b8962762e3",
   "metadata": {},
   "outputs": [
    {
     "name": "stderr",
     "output_type": "stream",
     "text": [
      "/var/folders/5_/znw2q2p96zxgvwzl47_6fdsr0000gn/T/ipykernel_69675/496793079.py:4: LangChainDeprecationWarning: The class `OllamaEmbeddings` was deprecated in LangChain 0.3.1 and will be removed in 1.0.0. An updated version of the class exists in the :class:`~langchain-ollama package and should be used instead. To use it run `pip install -U :class:`~langchain-ollama` and import as `from :class:`~langchain_ollama import OllamaEmbeddings``.\n",
      "  embedding=OllamaEmbeddings(model=\"nomic-embed-text\", show_progress=True),\n",
      "Failed to send telemetry event ClientStartEvent: capture() takes 1 positional argument but 3 were given\n",
      "Failed to send telemetry event ClientCreateCollectionEvent: capture() takes 1 positional argument but 3 were given\n",
      "OllamaEmbeddings: 100%|█████████████████████| 155/155 [00:47<00:00,  3.25it/s]\n"
     ]
    }
   ],
   "source": [
    "# Add the chunks to vector database, which takes the model for creating the embeddings.\n",
    "vector_db = Chroma.from_documents(\n",
    "                                    documents=chunks, \n",
    "                                    embedding=OllamaEmbeddings(model=\"nomic-embed-text\", show_progress=True),\n",
    "                                    collection_name=\"local-rag\"\n",
    "                                )"
   ]
  },
  {
   "cell_type": "code",
   "execution_count": 6,
   "id": "2f3e4f6f-e2dd-49bb-9d69-6bcfe62fda48",
   "metadata": {},
   "outputs": [
    {
     "name": "stderr",
     "output_type": "stream",
     "text": [
      "/var/folders/5_/znw2q2p96zxgvwzl47_6fdsr0000gn/T/ipykernel_69675/3269727011.py:2: LangChainDeprecationWarning: The class `ChatOllama` was deprecated in LangChain 0.3.1 and will be removed in 1.0.0. An updated version of the class exists in the :class:`~langchain-ollama package and should be used instead. To use it run `pip install -U :class:`~langchain-ollama` and import as `from :class:`~langchain_ollama import ChatOllama``.\n",
      "  llm = ChatOllama(model=local_llm)\n"
     ]
    }
   ],
   "source": [
    "local_llm = \"llama3.1\"\n",
    "llm = ChatOllama(model=local_llm)\n",
    "\n",
    "QUERY_PROMPT = PromptTemplate(\n",
    "    input_variables = [\"question\"],\n",
    "    template=\"\"\"You are an AI Language model assistant. Your task is to generate five different versions of the given user question to retrieve relavant documents from a vector databaase. By generating multiple perspectives on the user question, your goal is to help the user overcome some of the limitations of the distance-based similarity search. Provide these alternative questions separated by newlines. \n",
    "    Original question: {question} \"\"\"\n",
    ")\n",
    "\n",
    "\n",
    "retriever = MultiQueryRetriever.from_llm(vector_db.as_retriever(),llm, prompt=QUERY_PROMPT)\n",
    "\n",
    "# RAG Prompt\n",
    "template = \"\"\"Answer the question based ONLY on the following context: \n",
    "{context}\n",
    "Question: {question}\n",
    "\"\"\"\n",
    "\n",
    "prompt = ChatPromptTemplate.from_template(template)\n",
    "\n",
    "chain = (\n",
    "    {\"context\":retriever, \"question\":RunnablePassthrough()}\n",
    "    | prompt \n",
    "    | llm \n",
    "    | StrOutputParser()\n",
    ")"
   ]
  },
  {
   "cell_type": "code",
   "execution_count": 7,
   "id": "f5208334-91a8-4121-a297-12175abaf024",
   "metadata": {},
   "outputs": [
    {
     "name": "stderr",
     "output_type": "stream",
     "text": [
      "OllamaEmbeddings: 100%|█████████████████████████| 1/1 [00:01<00:00,  1.11s/it]\n",
      "Failed to send telemetry event CollectionQueryEvent: capture() takes 1 positional argument but 3 were given\n",
      "OllamaEmbeddings: 100%|█████████████████████████| 1/1 [00:00<00:00, 49.81it/s]\n",
      "OllamaEmbeddings: 100%|█████████████████████████| 1/1 [00:00<00:00, 39.15it/s]\n",
      "OllamaEmbeddings: 100%|█████████████████████████| 1/1 [00:00<00:00, 47.59it/s]\n",
      "OllamaEmbeddings: 100%|█████████████████████████| 1/1 [00:00<00:00, 56.58it/s]\n",
      "OllamaEmbeddings: 100%|█████████████████████████| 1/1 [00:00<00:00, 51.82it/s]\n",
      "OllamaEmbeddings: 100%|█████████████████████████| 1/1 [00:00<00:00, 42.62it/s]\n",
      "OllamaEmbeddings: 100%|█████████████████████████| 1/1 [00:00<00:00, 50.31it/s]\n",
      "OllamaEmbeddings: 100%|█████████████████████████| 1/1 [00:00<00:00, 50.76it/s]\n",
      "OllamaEmbeddings: 100%|█████████████████████████| 1/1 [00:00<00:00, 40.79it/s]\n",
      "OllamaEmbeddings: 100%|█████████████████████████| 1/1 [00:00<00:00, 41.03it/s]\n",
      "OllamaEmbeddings: 100%|█████████████████████████| 1/1 [00:00<00:00, 43.40it/s]\n",
      "OllamaEmbeddings: 100%|█████████████████████████| 1/1 [00:00<00:00, 50.85it/s]\n",
      "OllamaEmbeddings: 100%|█████████████████████████| 1/1 [00:00<00:00, 56.37it/s]\n",
      "OllamaEmbeddings: 100%|█████████████████████████| 1/1 [00:00<00:00, 36.79it/s]\n",
      "OllamaEmbeddings: 100%|█████████████████████████| 1/1 [00:00<00:00, 21.27it/s]\n"
     ]
    },
    {
     "name": "stdout",
     "output_type": "stream",
     "text": [
      "The primary objectives of this Act are not explicitly stated in the provided text. However, based on the content, it appears to be a comprehensive bill addressing various aspects of healthcare policy and pharmacy benefit management. The Act aims to regulate pharmacy benefit managers, including requiring them to provide annual reports, implementing audit rights for PDP sponsors, and enforcing compliance with certain requirements.\n",
      "\n",
      "Some potential objectives of this Act could include:\n",
      "\n",
      "1. Improving transparency in pharmacy benefit management\n",
      "2. Enhancing accountability among pharmacy benefit managers\n",
      "3. Protecting patients' access to prescription medications\n",
      "4. Reducing costs associated with pharmacy benefit management\n",
      "5. Promoting fair business practices within the industry\n",
      "\n",
      "Please note that these are speculative objectives and may not be an exhaustive list of the Act's primary goals.\n"
     ]
    }
   ],
   "source": [
    "q = \"Describe the primary objectives of this Act.\"\n",
    "response = chain.invoke(q)\n",
    "\n",
    "print(response)"
   ]
  },
  {
   "cell_type": "code",
   "execution_count": 8,
   "id": "7c755845-f8b3-4e7d-a78e-6da83de7232e",
   "metadata": {},
   "outputs": [
    {
     "name": "stderr",
     "output_type": "stream",
     "text": [
      "OllamaEmbeddings: 100%|█████████████████████████| 1/1 [00:01<00:00,  1.27s/it]\n",
      "OllamaEmbeddings: 100%|█████████████████████████| 1/1 [00:00<00:00, 44.87it/s]\n",
      "OllamaEmbeddings: 100%|█████████████████████████| 1/1 [00:00<00:00, 46.65it/s]\n",
      "OllamaEmbeddings: 100%|█████████████████████████| 1/1 [00:00<00:00, 34.38it/s]\n",
      "OllamaEmbeddings: 100%|█████████████████████████| 1/1 [00:00<00:00, 30.48it/s]\n",
      "OllamaEmbeddings: 100%|█████████████████████████| 1/1 [00:00<00:00, 40.45it/s]\n"
     ]
    },
    {
     "name": "stdout",
     "output_type": "stream",
     "text": [
      "Based on the provided text, it appears that the most controversial objective within this Act may be the \"PROHIBITING WAIVER OF COMMUNITY ENGAGEMENT REQUIREMENTS\" section (subsection 44141(10)). This section restricts states from waiving certain community engagement requirements for individuals receiving Medicaid benefits. The controversy surrounding this section is likely due to its potential impact on individual freedoms and autonomy, as well as the possibility that it may be overly restrictive or burdensome.\n",
      "\n",
      "However, without more context or information about the specific provisions of the Act and their intended effects, it's difficult to say for certain which objective is the most controversial. Other sections, such as those related to cost-sharing requirements or government efficiency grants, may also be contentious depending on one's perspective.\n"
     ]
    }
   ],
   "source": [
    "q = \"What is the most controversial objective within this Act?\"\n",
    "response = chain.invoke(q)\n",
    "\n",
    "print(response)"
   ]
  },
  {
   "cell_type": "code",
   "execution_count": 9,
   "id": "d88abdbc-9fa5-4502-bb34-975c1539abbe",
   "metadata": {},
   "outputs": [
    {
     "name": "stderr",
     "output_type": "stream",
     "text": [
      "OllamaEmbeddings: 100%|█████████████████████████| 1/1 [00:01<00:00,  1.10s/it]\n",
      "OllamaEmbeddings: 100%|█████████████████████████| 1/1 [00:00<00:00, 50.42it/s]\n",
      "OllamaEmbeddings: 100%|█████████████████████████| 1/1 [00:00<00:00, 47.88it/s]\n",
      "OllamaEmbeddings: 100%|█████████████████████████| 1/1 [00:00<00:00, 35.65it/s]\n",
      "OllamaEmbeddings: 100%|█████████████████████████| 1/1 [00:00<00:00, 30.86it/s]\n",
      "OllamaEmbeddings: 100%|█████████████████████████| 1/1 [00:00<00:00, 37.72it/s]\n"
     ]
    },
    {
     "name": "stdout",
     "output_type": "stream",
     "text": [
      "This is a very complex and multi-faceted Act, but I'll try to identify the groups that might be harmed the most based on its provisions.\n",
      "\n",
      "**Medicaid Expansion**\n",
      "\n",
      "* The groups that could be harmed are those who might not benefit from Medicaid expansion or might lose some of their current benefits:\n",
      "\t+ Individuals with higher incomes who currently receive Medicaid benefits (if they exceed income limits, they might no longer qualify)\n",
      "\t+ Those who have private health insurance and don't need Medicaid\n",
      "\t+ Businesses or organizations that provide healthcare services to those who would no longer be covered by Medicaid\n",
      "\n",
      "**Work Requirements**\n",
      "\n",
      "* Low-income individuals and families with dependents:\n",
      "\t+ The work requirements could make it more difficult for them to access healthcare, especially if they don't have stable employment or transportation.\n",
      "\t+ Those who are elderly, disabled, or have caregiving responsibilities might find it challenging to meet the work requirements.\n",
      "\n",
      "**Changes to Medicaid**\n",
      "\n",
      "* Long-term care facilities and providers of in-home care services:\n",
      "\t+ The changes to Medicaid's cost-sharing requirements for certain expansion individuals could lead to reduced reimbursement rates for these providers.\n",
      "\t+ This might result in less funding for home- and community-based services, affecting the elderly or disabled individuals who rely on them.\n",
      "\n",
      "**Changes to the Healthcare System**\n",
      "\n",
      "* Undocumented immigrants and their families:\n",
      "\t+ The Act does not provide a clear pathway for undocumented immigrants to access healthcare or Medicaid benefits.\n",
      "\t+ This could leave them without access to essential medical care and exacerbate existing health disparities.\n",
      "\n",
      "Please note that these are just potential areas of concern and may not be exhaustive. The actual impact of this Act will depend on various factors, including the specific provisions implemented by states and local governments.\n"
     ]
    }
   ],
   "source": [
    "q = \"Resulting from this Act, which groups would be harmed most?\"\n",
    "response = chain.invoke(q)\n",
    "\n",
    "print(response)"
   ]
  },
  {
   "cell_type": "code",
   "execution_count": 10,
   "id": "b03ec33c-5062-451a-a404-3eaf46de5470",
   "metadata": {},
   "outputs": [
    {
     "name": "stderr",
     "output_type": "stream",
     "text": [
      "OllamaEmbeddings: 100%|█████████████████████████| 1/1 [00:01<00:00,  1.19s/it]\n",
      "OllamaEmbeddings: 100%|█████████████████████████| 1/1 [00:00<00:00, 54.15it/s]\n",
      "OllamaEmbeddings: 100%|█████████████████████████| 1/1 [00:00<00:00, 46.56it/s]\n",
      "OllamaEmbeddings: 100%|█████████████████████████| 1/1 [00:00<00:00, 51.17it/s]\n",
      "OllamaEmbeddings: 100%|█████████████████████████| 1/1 [00:00<00:00, 39.16it/s]\n",
      "OllamaEmbeddings: 100%|█████████████████████████| 1/1 [00:00<00:00, 46.92it/s]\n"
     ]
    }
   ],
   "source": [
    "q = \"Resulting from this Act, which groups would benefit most?\"\n",
    "response = chain.invoke(q)"
   ]
  }
 ],
 "metadata": {
  "kernelspec": {
   "display_name": "Python 3 (ipykernel)",
   "language": "python",
   "name": "python3"
  },
  "language_info": {
   "codemirror_mode": {
    "name": "ipython",
    "version": 3
   },
   "file_extension": ".py",
   "mimetype": "text/x-python",
   "name": "python",
   "nbconvert_exporter": "python",
   "pygments_lexer": "ipython3",
   "version": "3.13.2"
  }
 },
 "nbformat": 4,
 "nbformat_minor": 5
}
