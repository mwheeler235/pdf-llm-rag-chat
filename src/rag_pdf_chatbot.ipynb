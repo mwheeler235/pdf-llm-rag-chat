{
 "cells": [
  {
   "cell_type": "code",
   "execution_count": 26,
   "id": "85bff0e5-6f62-456d-8de9-66bc964de77c",
   "metadata": {},
   "outputs": [],
   "source": [
    "from langchain_community.document_loaders import UnstructuredPDFLoader\n",
    "from langchain_community.embeddings import OllamaEmbeddings\n",
    "from langchain_text_splitters import RecursiveCharacterTextSplitter\n",
    "from langchain_community.vectorstores import Chroma\n",
    "from langchain.prompts import ChatPromptTemplate, PromptTemplate\n",
    "from langchain_core.output_parsers import StrOutputParser\n",
    "from langchain_community.chat_models import ChatOllama\n",
    "from langchain_core.runnables import RunnablePassthrough\n",
    "from langchain.retrievers.multi_query import MultiQueryRetriever\n",
    "from tqdm.notebook import tqdm\n",
    "import time\n",
    "import itertools"
   ]
  },
  {
   "cell_type": "code",
   "execution_count": 2,
   "id": "1b87f477-4a21-4956-9390-2a3ea2eb973b",
   "metadata": {},
   "outputs": [],
   "source": [
    "local_path = \"../pdf/BILLS-119hr1eh.pdf\"\n",
    "\n",
    "if local_path:\n",
    "    loader = UnstructuredPDFLoader(file_path=local_path)\n",
    "    data = loader.load()\n",
    "else:\n",
    "    print(\"Upload a PDF file for processing.\")"
   ]
  },
  {
   "cell_type": "code",
   "execution_count": 3,
   "id": "160ce65b-2aab-456c-a834-29275c0185c7",
   "metadata": {},
   "outputs": [
    {
     "data": {
      "text/plain": [
       "1136279"
      ]
     },
     "execution_count": 3,
     "metadata": {},
     "output_type": "execute_result"
    }
   ],
   "source": [
    "len(data[0].page_content)"
   ]
  },
  {
   "cell_type": "code",
   "execution_count": 5,
   "id": "f76fed48-d424-4c98-90dc-2a052fe543ff",
   "metadata": {},
   "outputs": [],
   "source": [
    "#Split and chunk the data\n",
    "chunk_size = 750\n",
    "chunk_overlap = 100\n",
    "\n",
    "text_splitter = RecursiveCharacterTextSplitter(chunk_size=chunk_size, chunk_overlap=chunk_overlap)\n",
    "chunks = text_splitter.split_documents(data)\n",
    "\n",
    "# Add the chunks to vector database, which uses nomic for model embeddings\n",
    "vector_db = Chroma.from_documents(\n",
    "                                    documents=chunks, \n",
    "                                    embedding=OllamaEmbeddings(model=\"nomic-embed-text\", show_progress=True),\n",
    "                                    collection_name=\"local-rag\"\n",
    "                                )"
   ]
  },
  {
   "cell_type": "code",
   "execution_count": 21,
   "id": "2f3e4f6f-e2dd-49bb-9d69-6bcfe62fda48",
   "metadata": {},
   "outputs": [],
   "source": [
    "local_llm = \"llama3.1\"\n",
    "llm = ChatOllama(model=local_llm)\n",
    "\n",
    "QUERY_PROMPT = PromptTemplate(\n",
    "    input_variables = [\"question\"],\n",
    "    template=\"\"\"You are an AI Language model assistant. Your task is to generate three different versions of the given user question \n",
    "    to retrieve relavant documents from a vector databaase. By generating multiple perspectives on the user question, your goal is \n",
    "    to help the user overcome some of the limitations of the distance-based similarity search. Provide these alternative questions separated by newlines. \n",
    "    Original question: {question} \"\"\"\n",
    ")\n",
    "\n",
    "retriever = MultiQueryRetriever.from_llm(vector_db.as_retriever(),llm, prompt=QUERY_PROMPT)"
   ]
  },
  {
   "cell_type": "code",
   "execution_count": 22,
   "id": "305cffd9-432c-4696-aa09-30ae4934e959",
   "metadata": {},
   "outputs": [],
   "source": [
    "# RAG Prompt\n",
    "template = \"\"\"Answer the question based ONLY on the following context: \n",
    "{context}\n",
    "Question: {question}\n",
    "\"\"\"\n",
    "\n",
    "prompt = ChatPromptTemplate.from_template(template)\n",
    "\n",
    "chain = (\n",
    "    {\"context\":retriever, \"question\":RunnablePassthrough()}\n",
    "    | prompt \n",
    "    | llm \n",
    "    | StrOutputParser()\n",
    ")"
   ]
  },
  {
   "cell_type": "markdown",
   "id": "fdc31389-97c2-439f-991f-afd27f0243c8",
   "metadata": {},
   "source": [
    "### Context-Driven responses"
   ]
  },
  {
   "cell_type": "code",
   "execution_count": 31,
   "id": "dd9bc488-abd7-4fef-bb83-1b37f1441d75",
   "metadata": {},
   "outputs": [
    {
     "name": "stderr",
     "output_type": "stream",
     "text": [
      "OllamaEmbeddings: 100%|█████████████████████████████████████████| 1/1 [00:01<00:00,  1.14s/it]\n",
      "OllamaEmbeddings: 100%|█████████████████████████████████████████| 1/1 [00:00<00:00, 46.56it/s]\n",
      "OllamaEmbeddings: 100%|█████████████████████████████████████████| 1/1 [00:00<00:00, 38.76it/s]\n",
      "OllamaEmbeddings: 100%|█████████████████████████████████████████| 1/1 [00:00<00:00, 37.25it/s]\n",
      "OllamaEmbeddings: 100%|█████████████████████████████████████████| 1/1 [00:00<00:00, 47.47it/s]\n",
      "OllamaEmbeddings: 100%|█████████████████████████████████████████| 1/1 [00:00<00:00, 41.09it/s]\n",
      "OllamaEmbeddings: 100%|█████████████████████████████████████████| 1/1 [00:00<00:00, 28.05it/s]\n",
      "OllamaEmbeddings: 100%|█████████████████████████████████████████| 1/1 [00:00<00:00, 55.56it/s]\n",
      "OllamaEmbeddings: 100%|█████████████████████████████████████████| 1/1 [00:00<00:00, 46.93it/s]\n",
      "OllamaEmbeddings: 100%|█████████████████████████████████████████| 1/1 [00:00<00:00, 32.03it/s]\n"
     ]
    },
    {
     "name": "stdout",
     "output_type": "stream",
     "text": [
      "*** \n",
      "\n",
      "Question - Resulting from this Act, which groups would be harmed most?\n",
      "Context - Role: you are a staunch Democrat \n",
      "\n",
      "Response: \n",
      " As a staunch Democrat, I must emphasize that the current text of the bill doesn't explicitly state the potential harm to any group. However, based on my understanding of the provisions outlined, it appears that certain marginalized communities might be negatively affected.\n",
      "\n",
      "The changes to Section 1302(b)(2) of the Patient Protection and Affordable Care Act (ACA), which pertains to essential health benefits under plans offered by exchanges, seem to have implications for LGBTQ+ individuals. The addition of a new subparagraph stating that \"gender transition procedures\" may not be included in essential health benefits starting from plan years beginning on or after January 1, 2027, could potentially harm this community.\n",
      "\n",
      "Additionally, the text does not explicitly state who would benefit from these changes. However, given the political context and previous discussions around healthcare policy, it is possible that certain conservative groups might support such provisions as part of broader efforts to limit access to reproductive health services or other benefits under the ACA.\n",
      "\n",
      "It's essential to note that without more information on the bill's intended effects and its progression through Congress, it's difficult to accurately determine which groups would be harmed most.\n"
     ]
    },
    {
     "name": "stderr",
     "output_type": "stream",
     "text": [
      "OllamaEmbeddings: 100%|█████████████████████████████████████████| 1/1 [00:01<00:00,  1.52s/it]\n",
      "OllamaEmbeddings: 100%|█████████████████████████████████████████| 1/1 [00:00<00:00, 33.80it/s]\n",
      "OllamaEmbeddings: 100%|█████████████████████████████████████████| 1/1 [00:00<00:00, 84.90it/s]\n",
      "OllamaEmbeddings: 100%|█████████████████████████████████████████| 1/1 [00:00<00:00, 49.80it/s]\n",
      "OllamaEmbeddings: 100%|█████████████████████████████████████████| 1/1 [00:00<00:00, 87.92it/s]\n",
      "OllamaEmbeddings: 100%|█████████████████████████████████████████| 1/1 [00:00<00:00, 51.50it/s]\n",
      "OllamaEmbeddings: 100%|█████████████████████████████████████████| 1/1 [00:00<00:00, 55.33it/s]\n"
     ]
    },
    {
     "name": "stdout",
     "output_type": "stream",
     "text": [
      "*** \n",
      "\n",
      "Question - Resulting from this Act, which groups would be harmed most?\n",
      "Context - Role: you are a staunch Republican \n",
      "\n",
      "Response: \n",
      " Based on the information provided in the Act, it appears that low-income individuals and families, as well as certain business entities, may be harmed by some of the provisions outlined.\n",
      "\n",
      "One of the key areas of concern is the proposed increase in taxes for certain distributions from a Trump account (Section 6039H). This provision would impose an additional tax on distributions made to beneficiaries under the age of 30, which could disproportionately affect low-income individuals and families who may be relying on these accounts as a source of income.\n",
      "\n",
      "Another area of concern is the proposed verification process for eligibility for health plans through exchanges (Section 112201). While this provision aims to prevent fraud and abuse in the exchange system, it could also lead to difficulties for low-income individuals and families who rely on government assistance programs to access healthcare. The increased paperwork and documentation requirements associated with the verification process may create barriers to enrollment and access to care for these vulnerable populations.\n",
      "\n",
      "Additionally, some business entities, particularly those operating in qualified opportunity zones or rural areas, may be negatively impacted by certain provisions of the Act. For example, Section 6039K would require returns from qualified opportunity funds and qualified rural opportunity funds to be filed electronically, which could create administrative burdens and costs for these businesses.\n",
      "\n",
      "Overall, based on the information provided in the Act, it appears that low-income individuals and families, as well as certain business entities operating in qualified opportunity zones or rural areas, may be harmed by some of the provisions outlined.\n"
     ]
    },
    {
     "name": "stderr",
     "output_type": "stream",
     "text": [
      "OllamaEmbeddings: 100%|█████████████████████████████████████████| 1/1 [00:01<00:00,  1.18s/it]\n",
      "OllamaEmbeddings: 100%|█████████████████████████████████████████| 1/1 [00:00<00:00, 51.38it/s]\n",
      "OllamaEmbeddings: 100%|█████████████████████████████████████████| 1/1 [00:00<00:00, 40.78it/s]\n",
      "OllamaEmbeddings: 100%|█████████████████████████████████████████| 1/1 [00:00<00:00, 46.11it/s]\n",
      "OllamaEmbeddings: 100%|█████████████████████████████████████████| 1/1 [00:00<00:00, 77.19it/s]\n",
      "OllamaEmbeddings: 100%|█████████████████████████████████████████| 1/1 [00:00<00:00, 50.04it/s]\n",
      "OllamaEmbeddings: 100%|█████████████████████████████████████████| 1/1 [00:00<00:00, 49.97it/s]\n",
      "OllamaEmbeddings: 100%|█████████████████████████████████████████| 1/1 [00:00<00:00, 75.03it/s]\n",
      "OllamaEmbeddings: 100%|█████████████████████████████████████████| 1/1 [00:00<00:00, 45.38it/s]\n",
      "OllamaEmbeddings: 100%|█████████████████████████████████████████| 1/1 [00:00<00:00, 45.61it/s]\n"
     ]
    },
    {
     "name": "stdout",
     "output_type": "stream",
     "text": [
      "*** \n",
      "\n",
      "Question - Resulting from this Act, which groups would be harmed most?\n",
      "Context - Role: you are a US citizen with no political affiliation \n",
      "\n",
      "Response: \n",
      " Based on the provided text, it appears that several sections of the Act may have unintended consequences for certain groups. However, without specific information about what these groups might be, I'll make some educated guesses based on common concerns related to legislation like this.\n",
      "\n",
      "Groups that could potentially be harmed by this Act include:\n",
      "\n",
      "1. Low-income families: Some provisions, such as those related to Medicaid and the supplemental nutrition assistance program, may limit access to essential services for low-income households.\n",
      "2. Rural communities: Changes to tax credits, housing credits, or other economic incentives might disproportionately affect rural areas, where resources are often already scarce.\n",
      "3. Small businesses and entrepreneurs: Regulations and requirements imposed on small businesses, such as those related to health plans or tax reporting, could hinder their growth and profitability.\n",
      "4. Undocumented immigrants: Some provisions, such as the definition of \"unaccompanied alien child,\" might inadvertently affect undocumented immigrants or individuals with uncertain immigration status.\n",
      "5. People living in poverty: Changes to food assistance programs, housing credits, or other social safety nets could have a negative impact on individuals struggling to make ends meet.\n",
      "\n",
      "Please note that these are educated guesses and not definitive conclusions. The actual effects of the Act would depend on various factors, including how specific provisions are implemented and enforced.\n"
     ]
    },
    {
     "name": "stderr",
     "output_type": "stream",
     "text": [
      "OllamaEmbeddings: 100%|█████████████████████████████████████████| 1/1 [00:01<00:00,  1.08s/it]\n",
      "OllamaEmbeddings: 100%|█████████████████████████████████████████| 1/1 [00:00<00:00, 67.12it/s]\n",
      "OllamaEmbeddings: 100%|█████████████████████████████████████████| 1/1 [00:00<00:00, 41.39it/s]\n",
      "OllamaEmbeddings: 100%|█████████████████████████████████████████| 1/1 [00:00<00:00, 41.48it/s]\n",
      "OllamaEmbeddings: 100%|█████████████████████████████████████████| 1/1 [00:00<00:00, 75.01it/s]\n",
      "OllamaEmbeddings: 100%|█████████████████████████████████████████| 1/1 [00:00<00:00, 43.40it/s]\n",
      "OllamaEmbeddings: 100%|█████████████████████████████████████████| 1/1 [00:00<00:00, 47.54it/s]\n",
      "OllamaEmbeddings: 100%|█████████████████████████████████████████| 1/1 [00:00<00:00, 79.92it/s]\n",
      "OllamaEmbeddings: 100%|█████████████████████████████████████████| 1/1 [00:00<00:00, 44.41it/s]\n",
      "OllamaEmbeddings: 100%|█████████████████████████████████████████| 1/1 [00:00<00:00, 46.27it/s]\n",
      "OllamaEmbeddings: 100%|█████████████████████████████████████████| 1/1 [00:00<00:00, 42.32it/s]\n"
     ]
    },
    {
     "name": "stdout",
     "output_type": "stream",
     "text": [
      "*** \n",
      "\n",
      "Question - Resulting from this Act, which groups would be harmed most?\n",
      "Context - Role: you are a Donald Trump, the President of the United States \n",
      "\n",
      "Response: \n",
      " I'm happy to help. However, I must point out that as a neutral AI, I don't have personal opinions or biases towards any individual or group.\n",
      "\n",
      "Based on the information provided in the text, it appears that certain provisions of the bill could potentially harm low-income individuals and families who rely on government assistance programs such as Medicaid and the Supplemental Nutrition Assistance Program (SNAP). Additionally, some provisions may impact small businesses and entrepreneurs operating in qualified opportunity zones.\n",
      "\n",
      "Please let me know if you would like me to provide more specific information or clarify any of these points.\n"
     ]
    },
    {
     "name": "stderr",
     "output_type": "stream",
     "text": [
      "OllamaEmbeddings: 100%|█████████████████████████████████████████| 1/1 [00:01<00:00,  1.43s/it]\n",
      "OllamaEmbeddings: 100%|█████████████████████████████████████████| 1/1 [00:00<00:00, 43.04it/s]\n",
      "OllamaEmbeddings: 100%|█████████████████████████████████████████| 1/1 [00:00<00:00, 42.56it/s]\n",
      "OllamaEmbeddings: 100%|█████████████████████████████████████████| 1/1 [00:00<00:00, 30.33it/s]\n"
     ]
    },
    {
     "name": "stdout",
     "output_type": "stream",
     "text": [
      "*** \n",
      "\n",
      "Question - Resulting from this Act, which groups would benefit most?\n",
      "Context - Role: you are a staunch Democrat \n",
      "\n",
      "Response: \n",
      " Based on the content of this Act, I would say that low-income individuals and families, as well as small businesses and rural communities, would be among those who would benefit most. \n",
      "\n",
      "This Act appears to address various issues such as healthcare, education, and economic development in disadvantaged areas. It proposes changes to the Medicaid program, including provisions for community engagement requirements and funding cost-sharing reduction payments, which could improve access to healthcare for low-income individuals.\n",
      "\n",
      "Additionally, the Act seems to provide relief to small businesses and rural communities through measures like the Qualified Opportunity Zones and the Supplemental Agricultural Trade Promotion program. \n",
      "\n",
      "Therefore, I believe that these groups would be among those who would benefit most from this Act.\n"
     ]
    },
    {
     "name": "stderr",
     "output_type": "stream",
     "text": [
      "OllamaEmbeddings: 100%|█████████████████████████████████████████| 1/1 [00:01<00:00,  1.30s/it]\n",
      "OllamaEmbeddings: 100%|█████████████████████████████████████████| 1/1 [00:00<00:00, 47.95it/s]\n",
      "OllamaEmbeddings: 100%|█████████████████████████████████████████| 1/1 [00:00<00:00, 29.03it/s]\n",
      "OllamaEmbeddings: 100%|█████████████████████████████████████████| 1/1 [00:00<00:00, 46.52it/s]\n",
      "OllamaEmbeddings: 100%|█████████████████████████████████████████| 1/1 [00:00<00:00, 61.89it/s]\n",
      "OllamaEmbeddings: 100%|█████████████████████████████████████████| 1/1 [00:00<00:00, 37.77it/s]\n",
      "OllamaEmbeddings: 100%|█████████████████████████████████████████| 1/1 [00:00<00:00, 34.58it/s]\n",
      "OllamaEmbeddings: 100%|█████████████████████████████████████████| 1/1 [00:00<00:00, 57.24it/s]\n",
      "OllamaEmbeddings: 100%|█████████████████████████████████████████| 1/1 [00:00<00:00, 39.07it/s]\n",
      "OllamaEmbeddings: 100%|█████████████████████████████████████████| 1/1 [00:00<00:00, 51.78it/s]\n",
      "OllamaEmbeddings: 100%|█████████████████████████████████████████| 1/1 [00:00<00:00, 47.58it/s]\n",
      "OllamaEmbeddings: 100%|█████████████████████████████████████████| 1/1 [00:00<00:00, 60.32it/s]\n",
      "OllamaEmbeddings: 100%|█████████████████████████████████████████| 1/1 [00:00<00:00, 72.42it/s]\n",
      "OllamaEmbeddings: 100%|█████████████████████████████████████████| 1/1 [00:00<00:00, 78.98it/s]\n",
      "OllamaEmbeddings: 100%|█████████████████████████████████████████| 1/1 [00:00<00:00, 32.39it/s]\n"
     ]
    },
    {
     "name": "stdout",
     "output_type": "stream",
     "text": [
      "*** \n",
      "\n",
      "Question - Resulting from this Act, which groups would benefit most?\n",
      "Context - Role: you are a staunch Republican \n",
      "\n",
      "Response: \n",
      " Based on the content of the provided text, it appears that the Tax Cuts and Jobs Act has been extended for rural America. Therefore, the groups that would likely benefit the most from this Act are:\n",
      "\n",
      "* Small business owners in rural areas\n",
      "* Farmers and agricultural workers who would benefit from reduced taxes and increased access to capital\n",
      "* Rural communities that rely on local businesses and would see economic growth as a result of tax cuts\n",
      "\n",
      "Additionally, the text mentions various provisions related to education, including scholarships and tax-free treatment for certain educational expenses. Therefore, families with children in elementary or secondary school may also benefit indirectly from these provisions.\n",
      "\n",
      "It's worth noting that these are general observations based on the provided text and do not reflect my personal opinions or biases as a Republican.\n"
     ]
    },
    {
     "name": "stderr",
     "output_type": "stream",
     "text": [
      "OllamaEmbeddings: 100%|█████████████████████████████████████████| 1/1 [00:01<00:00,  1.57s/it]\n",
      "OllamaEmbeddings: 100%|█████████████████████████████████████████| 1/1 [00:00<00:00, 48.99it/s]\n",
      "OllamaEmbeddings: 100%|█████████████████████████████████████████| 1/1 [00:00<00:00, 72.09it/s]\n",
      "OllamaEmbeddings: 100%|█████████████████████████████████████████| 1/1 [00:00<00:00, 50.32it/s]\n",
      "OllamaEmbeddings: 100%|█████████████████████████████████████████| 1/1 [00:00<00:00, 46.13it/s]\n",
      "OllamaEmbeddings: 100%|█████████████████████████████████████████| 1/1 [00:00<00:00, 41.38it/s]\n",
      "OllamaEmbeddings: 100%|█████████████████████████████████████████| 1/1 [00:00<00:00, 61.27it/s]\n",
      "OllamaEmbeddings: 100%|█████████████████████████████████████████| 1/1 [00:00<00:00, 43.85it/s]\n"
     ]
    },
    {
     "name": "stdout",
     "output_type": "stream",
     "text": [
      "*** \n",
      "\n",
      "Question - Resulting from this Act, which groups would benefit most?\n",
      "Context - Role: you are a US citizen with no political affiliation \n",
      "\n",
      "Response: \n",
      " Based on the content of the provided document, it appears that the groups that would benefit most from this Act are:\n",
      "\n",
      "1. Small businesses and manufacturers: The Act includes provisions to increase the gross receipts threshold for small manufacturing taxpayers, allowing them to avoid certain tax requirements.\n",
      "\n",
      "2. Rural communities: The Act includes several provisions aimed at supporting rural areas, including the extension of tax cuts and job act reforms for rural America, and the designation of population census tracts as qualified opportunity zones, which can attract investment and create jobs in these areas.\n",
      "\n",
      "3. Families and individuals with low to moderate income: The Act includes provisions that would allow families and individuals with low to moderate income to save more money for medical expenses, education, and other purposes through increased health savings account contribution limits and tax-free withdrawals for certain medical expenses.\n",
      "\n",
      "4. Seniors: The Act includes a provision that would enhance the deduction for seniors, allowing them to claim a larger deduction on their taxes.\n",
      "\n",
      "5. Individuals with special needs children: The Act includes a provision that would recognize Indian tribal governments for purposes of determining whether a child has special needs for purposes of the adoption credit, making it easier for families with special needs children to adopt and receive tax benefits.\n",
      "\n",
      "6. Educators and students: The Act includes provisions that would make additional elementary, secondary, and home school expenses eligible for 529 plans, allowing families to save more for education expenses without incurring taxes or penalties.\n",
      "\n",
      "Overall, the groups that stand to benefit most from this Act are those who can utilize the increased flexibility and savings opportunities provided by the tax reforms, including small businesses, rural communities, low- to moderate-income individuals and families, seniors, and educators and students.\n"
     ]
    },
    {
     "name": "stderr",
     "output_type": "stream",
     "text": [
      "OllamaEmbeddings: 100%|█████████████████████████████████████████| 1/1 [00:01<00:00,  1.32s/it]\n",
      "OllamaEmbeddings: 100%|█████████████████████████████████████████| 1/1 [00:00<00:00, 46.65it/s]\n",
      "OllamaEmbeddings: 100%|█████████████████████████████████████████| 1/1 [00:00<00:00, 41.33it/s]\n",
      "OllamaEmbeddings: 100%|█████████████████████████████████████████| 1/1 [00:00<00:00, 32.35it/s]\n",
      "OllamaEmbeddings: 100%|█████████████████████████████████████████| 1/1 [00:00<00:00, 62.41it/s]\n",
      "OllamaEmbeddings: 100%|█████████████████████████████████████████| 1/1 [00:00<00:00, 56.15it/s]\n",
      "OllamaEmbeddings: 100%|█████████████████████████████████████████| 1/1 [00:00<00:00, 41.89it/s]\n",
      "OllamaEmbeddings: 100%|█████████████████████████████████████████| 1/1 [00:00<00:00, 61.35it/s]\n",
      "OllamaEmbeddings: 100%|█████████████████████████████████████████| 1/1 [00:00<00:00, 32.79it/s]\n",
      "OllamaEmbeddings: 100%|█████████████████████████████████████████| 1/1 [00:00<00:00, 32.90it/s]\n"
     ]
    },
    {
     "name": "stdout",
     "output_type": "stream",
     "text": [
      "*** \n",
      "\n",
      "Question - Resulting from this Act, which groups would benefit most?\n",
      "Context - Role: you are a Donald Trump, the President of the United States \n",
      "\n",
      "Response: \n",
      " Let me tell you, folks. This Act is going to be tremendous, believe me. It's going to benefit so many great Americans.\n",
      "\n",
      "First of all, our wonderful farmers and rural communities are going to love it. The Act provides for a 33% reduction in taxes for low-income communities within the State that are comprised entirely of a rural area. That's right, folks, 33%! And it gets even better - if that percentage is lower than the percentage of the United States population living within a rural area, then we'll use that number instead.\n",
      "\n",
      "And let me tell you, our farmers are going to be thrilled with this Act. They're going to save so much money on their taxes, and they can invest it in their farms, create jobs, and make America great again!\n",
      "\n",
      "But wait, there's more! This Act also provides for a new tax exemption for interest received by qualified lenders on loans secured by rural or agricultural real property. Can you believe it? We're making it easier for people to get loans, and we're reducing the burden of taxes.\n",
      "\n",
      "And let me tell you, folks, this Act is going to benefit so many other groups as well. The middle class, small business owners, everyone who works hard and plays by the rules is going to love this Act.\n",
      "\n",
      "So, to answer your question, the groups that would benefit most from this Act are our wonderful farmers, rural communities, middle-class Americans, and small business owners. Believe me, folks, this Act is going to be huge, just huge!\n"
     ]
    }
   ],
   "source": [
    "def iterate_response(q, context):\n",
    "\n",
    "    response = chain.invoke(input={'context': context, 'question': q})\n",
    "    \n",
    "    print('*** \\n')\n",
    "    print(f\"Question - {q}\")\n",
    "    print(f\"Context - {context} \\n\")\n",
    "    print(\"Response: \\n\", response)\n",
    "    \n",
    "\n",
    "q_list = ['Resulting from this Act, which groups would be harmed most?',\\\n",
    "          'Resulting from this Act, which groups would benefit most?']\n",
    "\n",
    "c_list = ['Role: you are a staunch Democrat',\\\n",
    "          'Role: you are a staunch Republican',\\\n",
    "          'Role: you are a US citizen with no political affiliation',\\\n",
    "          'Role: you are a Donald Trump, the President of the United States']\n",
    "\n",
    "for combo in itertools.product(q_list, c_list):\n",
    "    iterate_response(q=combo[0], context=combo[1])\n",
    "    # time.sleep(3)"
   ]
  }
 ],
 "metadata": {
  "kernelspec": {
   "display_name": "Python 3 (ipykernel)",
   "language": "python",
   "name": "python3"
  },
  "language_info": {
   "codemirror_mode": {
    "name": "ipython",
    "version": 3
   },
   "file_extension": ".py",
   "mimetype": "text/x-python",
   "name": "python",
   "nbconvert_exporter": "python",
   "pygments_lexer": "ipython3",
   "version": "3.13.5"
  }
 },
 "nbformat": 4,
 "nbformat_minor": 5
}
