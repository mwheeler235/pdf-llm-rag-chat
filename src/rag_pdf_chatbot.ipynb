{
 "cells": [
  {
   "cell_type": "code",
   "execution_count": 1,
   "id": "85bff0e5-6f62-456d-8de9-66bc964de77c",
   "metadata": {},
   "outputs": [],
   "source": [
    "import os\n",
    "from dotenv import load_dotenv\n",
    "import json\n",
    "from langchain_community.document_loaders import UnstructuredPDFLoader\n",
    "from langchain_text_splitters import RecursiveCharacterTextSplitter\n",
    "from langchain_community.vectorstores import Chroma\n",
    "from langchain.prompts import ChatPromptTemplate, PromptTemplate\n",
    "\n",
    "from langchain_core.output_parsers import StrOutputParser\n",
    "from langchain_ollama import OllamaEmbeddings, ChatOllama\n",
    "from langchain_core.runnables import RunnablePassthrough\n",
    "from langchain.retrievers.multi_query import MultiQueryRetriever\n",
    "from langchain_openai import ChatOpenAI\n",
    "from langchain_core.callbacks import BaseCallbackHandler\n",
    "\n",
    "from ragas import evaluate\n",
    "from ragas.run_config import RunConfig\n",
    "from ragas.metrics import faithfulness, answer_relevancy, answer_correctness, context_precision, context_recall, answer_similarity\n",
    "from ragas.embeddings import LangchainEmbeddingsWrapper\n",
    "from ragas.llms import LangchainLLMWrapper\n",
    "from datasets import Dataset\n",
    "import itertools\n",
    "import pandas as pd"
   ]
  },
  {
   "cell_type": "code",
   "execution_count": 2,
   "id": "28df1d69",
   "metadata": {},
   "outputs": [
    {
     "data": {
      "text/plain": [
       "True"
      ]
     },
     "execution_count": 2,
     "metadata": {},
     "output_type": "execute_result"
    }
   ],
   "source": [
    "load_dotenv()"
   ]
  },
  {
   "cell_type": "code",
   "execution_count": 3,
   "id": "1b87f477-4a21-4956-9390-2a3ea2eb973b",
   "metadata": {},
   "outputs": [],
   "source": [
    "local_path = \"../pdf/BILLS-119hr1eh.pdf\"\n",
    "\n",
    "# Parameters to reduce runtime of the PDF loader\n",
    "# split_pdf_page=True\n",
    "# split_pdf_concurrency_level = 15\n",
    "\n",
    "if local_path:\n",
    "    loader = UnstructuredPDFLoader(file_path=local_path,\n",
    "                                   split_pdf_page=True,\n",
    "                                   split_pdf_concurrency_level=15)\n",
    "    data = loader.load()\n",
    "else:\n",
    "    print(\"Upload a PDF file for processing.\")"
   ]
  },
  {
   "cell_type": "code",
   "execution_count": 4,
   "id": "160ce65b-2aab-456c-a834-29275c0185c7",
   "metadata": {},
   "outputs": [
    {
     "data": {
      "text/plain": [
       "1136279"
      ]
     },
     "execution_count": 4,
     "metadata": {},
     "output_type": "execute_result"
    }
   ],
   "source": [
    "len(data[0].page_content)"
   ]
  },
  {
   "cell_type": "code",
   "execution_count": 5,
   "id": "f76fed48-d424-4c98-90dc-2a052fe543ff",
   "metadata": {},
   "outputs": [
    {
     "name": "stderr",
     "output_type": "stream",
     "text": [
      "Failed to send telemetry event ClientStartEvent: capture() takes 1 positional argument but 3 were given\n",
      "Failed to send telemetry event ClientCreateCollectionEvent: capture() takes 1 positional argument but 3 were given\n"
     ]
    }
   ],
   "source": [
    "#Split and chunk the data\n",
    "chunk_size = 750\n",
    "chunk_overlap = 200\n",
    "\n",
    "text_splitter = RecursiveCharacterTextSplitter(chunk_size=chunk_size, chunk_overlap=chunk_overlap)\n",
    "chunks = text_splitter.split_documents(data)\n",
    "\n",
    "# Add the chunks to vector database, which uses nomic for model embeddings\n",
    "vector_db = Chroma.from_documents(\n",
    "                                    documents=chunks, \n",
    "                                    embedding=OllamaEmbeddings(model=\"nomic-embed-text\"),\n",
    "                                    collection_name=\"local-rag\"\n",
    "                                )"
   ]
  },
  {
   "cell_type": "code",
   "execution_count": 6,
   "id": "2f3e4f6f-e2dd-49bb-9d69-6bcfe62fda48",
   "metadata": {},
   "outputs": [],
   "source": [
    "local_llm = \"llama3.2\"\n",
    "llm = ChatOllama(model=local_llm)\n",
    "\n",
    "# Set up a basic PromptTemplate as the backbones of the solution\n",
    "# Ask the system to gather several responses and to limit response to 200 words\n",
    "QUERY_PROMPT = PromptTemplate(\n",
    "    input_variables = [\"question\"],\n",
    "        template=\"\"\"You are an AI Language model assistant. Your task is to generate three different versions of the given user question \n",
    "        to retrieve relevant documents from a vector database. Please be as concise as possible and limit your response to 200 words or less. \n",
    "        Original question: {question} \"\"\"\n",
    ")\n",
    "\n",
    "retriever = MultiQueryRetriever.from_llm(vector_db.as_retriever(),llm, prompt=QUERY_PROMPT)"
   ]
  },
  {
   "cell_type": "code",
   "execution_count": 7,
   "id": "305cffd9-432c-4696-aa09-30ae4934e959",
   "metadata": {},
   "outputs": [],
   "source": [
    "# use a ChatPromptTemplate to initiate a conversation, allowing the System to assume a Role\n",
    "chat_template = \"\"\"Answer the question based only on the following context: \n",
    "{context}\n",
    "Question: {question}\n",
    "\"\"\"\n",
    "\n",
    "prompt = ChatPromptTemplate.from_template(chat_template)\n",
    "\n",
    "chain = (\n",
    "    {\"context\":retriever, \"question\":RunnablePassthrough()}\n",
    "    | prompt \n",
    "    | llm \n",
    "    | StrOutputParser()\n",
    ")"
   ]
  },
  {
   "cell_type": "markdown",
   "id": "fdc31389-97c2-439f-991f-afd27f0243c8",
   "metadata": {},
   "source": [
    "### Context-Driven responses"
   ]
  },
  {
   "cell_type": "code",
   "execution_count": null,
   "id": "37587d44-6137-4700-80a7-49bfca5883f0",
   "metadata": {},
   "outputs": [],
   "source": [
    "# q_list = ['Resulting from this Act, which groups would be harmed most?',\\\n",
    "#           'Resulting from this Act, which groups would benefit most?']\n",
    "\n",
    "# c_list = ['Role: you are a staunch Democrat',\\\n",
    "#           'Role: you are a staunch Republican',\\\n",
    "#           'Role: you are a US citizen with no political affiliation',\\\n",
    "#           'Role: you are a wealthy investor with interests in oil, gas, and mining',\\\n",
    "#           'Role: you are a person that enjoys recreating in public lands while living in Colorado']"
   ]
  },
  {
   "cell_type": "code",
   "execution_count": 8,
   "id": "dd9bc488-abd7-4fef-bb83-1b37f1441d75",
   "metadata": {},
   "outputs": [],
   "source": [
    "def response_gen(q, context):\n",
    "    \"\"\"\n",
    "    Invoke the language model chain with a given question and context, \n",
    "    then print the question, context, and the model's response.\n",
    "\n",
    "    Args:\n",
    "        q (str): The question to ask.\n",
    "        context (str): The context or role to provide to the model.\n",
    "    \"\"\"\n",
    "    response = chain.invoke(input={'context': context, 'question': q})\n",
    "    \n",
    "    print('*** \\n')\n",
    "    print(f\"Question - {q}\")\n",
    "    print(f\"Context - {context} \\n\")\n",
    "    print(\"Response: \\n\", response)\n",
    "\n",
    "    return response\n",
    "\n",
    "\n",
    "def iterate_responses(q_list, c_list):\n",
    "    \"\"\"\n",
    "    Iterate over all combinations of questions and contexts, generate responses using the language model,\n",
    "    and return a DataFrame with the results.\n",
    "\n",
    "    Args:\n",
    "        q_list (list): List of questions to ask.\n",
    "        c_list (list): List of contexts or roles to provide to the model.\n",
    "\n",
    "    Returns:\n",
    "        pd.DataFrame: DataFrame containing columns 'question', 'context', and 'response' for each combination.\n",
    "    \"\"\"\n",
    "    response_list = []\n",
    "    df_responses = []\n",
    "    \n",
    "    for combo in itertools.product(q_list, c_list):\n",
    "        response = response_gen(q=combo[0], context=combo[1])\n",
    "\n",
    "        data = {\n",
    "        'question': [combo[0]],\n",
    "        'context': [combo[1]],\n",
    "        'response': [response]\n",
    "        }\n",
    "    \n",
    "        df = pd.DataFrame(data)\n",
    "    \n",
    "        response_list.append(df)\n",
    "\n",
    "    df_responses = pd.concat(response_list)\n",
    "    df_responses.reset_index(inplace=True, drop=True)\n",
    "\n",
    "    return df_responses"
   ]
  },
  {
   "cell_type": "code",
   "execution_count": 9,
   "id": "c1eb23e4-0444-4a49-9039-309ca564abcd",
   "metadata": {},
   "outputs": [
    {
     "name": "stderr",
     "output_type": "stream",
     "text": [
      "Failed to send telemetry event CollectionQueryEvent: capture() takes 1 positional argument but 3 were given\n"
     ]
    },
    {
     "name": "stdout",
     "output_type": "stream",
     "text": [
      "*** \n",
      "\n",
      "Question - Resulting from this Act, which groups would be harmed most?\n",
      "Context - Role: you are a US citizen with no political affiliation \n",
      "\n",
      "Response: \n",
      " Based on the text of the Act, it appears that the following groups would be harmed most:\n",
      "\n",
      "1. Immigrants and asylum seekers who may be impacted by changes to parole policies and increased scrutiny.\n",
      "2. Low-income individuals who may struggle with rising healthcare costs due to reduced availability of affordable prescription drugs.\n",
      "3. Small businesses and independent pharmacies who may face increased regulatory burdens and costs under new laws related to exchange enrollment verification, exchange vendor reporting, and extra-long staple cotton pricing.\n",
      "4. Farmers and producers who may be affected by changes to agricultural subsidies, land use regulations, and environmental policies.\n",
      "\n",
      "It is worth noting that these are just potential examples of groups that could be harmed by certain provisions in the Act, and it's impossible to know for certain without more information about the specific provisions and their intended effects.\n",
      "*** \n",
      "\n",
      "Question - Resulting from this Act, which groups would be harmed most?\n",
      "Context - Role: you are a staunch Republican \n",
      "\n",
      "Response: \n",
      " As a staunch Republican, I would argue that certain groups would be harmed most by the provisions of this Act. Specifically, I would point to the following groups:\n",
      "\n",
      "1. Small business owners and farmers: The Act's emphasis on increasing the minimum wage and implementing stricter regulations could lead to increased costs for small businesses and farmers, making it more difficult for them to compete with larger corporations.\n",
      "2. Low-income households: Some provisions of the Act, such as the expansion of Medicaid and the increase in the minimum wage, could lead to higher prices for goods and services, which could disproportionately affect low-income households who already struggle to make ends meet.\n",
      "3. Rural communities: The Act's focus on urban areas and its neglect of rural areas could lead to a lack of investment and opportunities in rural communities, exacerbating existing disparities between urban and rural areas.\n",
      "\n",
      "These groups would likely be harmed most by the provisions of this Act, as they are often vulnerable to economic downturns and regulatory changes.\n",
      "*** \n",
      "\n",
      "Question - Resulting from this Act, which groups would be harmed most?\n",
      "Context - Role: you are a staunch Republican \n",
      "\n",
      "Response: \n",
      " As a staunch Republican, I would likely believe that certain groups, such as those who benefit from government assistance programs or regulations, would be harmed most by the resulting policies and provisions of this Act.\n",
      "\n",
      "Based on the text provided, some specific groups that may be harmed include:\n",
      "\n",
      "* Low-income individuals and families: The Act's provision to disallow a premium tax credit during periods of Medicaid ineligibility due to alien status could negatively impact low-income individuals who rely on government assistance programs.\n",
      "* Rural communities: The Act's designation of certain census tracts as \"qualified opportunity zones\" may have unintended consequences for rural communities, potentially exacerbating existing economic disparities.\n",
      "* Small businesses and entrepreneurs: The Act's provisions related to exchange enrollment verification and controlled groups may create additional regulatory burdens and complexities for small businesses and entrepreneurs.\n",
      "\n",
      "However, it is essential to note that these groups' interests may be influenced by one's individual political perspective. As a Republican, I would likely prioritize the interests of individuals who are not reliant on government assistance programs or regulations, such as those in rural areas with limited access to healthcare or economic opportunities.\n",
      "*** \n",
      "\n",
      "Question - Resulting from this Act, which groups would be harmed most?\n",
      "Context - Role: you are a staunch Democrat \n",
      "\n",
      "Response: \n",
      " Based on the provided context, I can infer that the Act in question is H.R. 1 EH1S (119th Congress), also known as the Inflation Reduction Act of 2022.\n",
      "\n",
      "Considering my role as a staunch Democrat, I can identify some groups that may be harmed most by the provisions of this Act:\n",
      "\n",
      "1. **Extra long staple cotton farmers**: The Act introduces new loan rate schedules and requirements for marketing assistance loans to these farmers, which could impact their livelihoods.\n",
      "2. **Low-income community residents in rural areas**: Some sections of the Act, such as those related to census tract designations and low-income community exclusions, might affect the living conditions and access to resources of these individuals.\n",
      "3. **Small businesses and startups**: Certain provisions, like the restrictions on internet expenses and the rules for proposed or final regulations, could potentially harm small businesses and startups that rely heavily on online platforms and regulatory clarity.\n",
      "\n",
      "Please note that this is a general analysis based solely on the provided context, and individual perspectives may vary depending on specific circumstances and values.\n",
      "*** \n",
      "\n",
      "Question - Resulting from this Act, which groups would be harmed most?\n",
      "Context - Role: you are a staunch Republican and Trump Supporter \n",
      "\n",
      "Response: \n",
      " Based on the content of the bill, it appears that several groups would be harmed most by its provisions. As a staunch Republican and Trump supporter, I would likely interpret these provisions as being intended to stifle certain behaviors or policies.\n",
      "\n",
      "Here are some groups that may be harmed most by this Act:\n",
      "\n",
      "1. **Individuals with certain immigration status**: Section 112201(b)(2) states that individuals who are not U.S. citizens or lawful permanent residents cannot receive health plan coverage if they live in a state that prohibits federal, state, or local government entities from cooperating with the enforcement of immigration laws.\n",
      "2. **Foreign corporations with discriminatory foreign ownership**: Section 112201(d)(E) states that any private foundation or foreign corporation more than 50% owned by individuals described in section (D) may be harmed if it is established or organized in a discriminatory foreign country, which could impact their ability to operate in the United States.\n",
      "3. **Small manufacturing businesses**: The changes made to Section 448(c)(4) may harm small manufacturing businesses that rely on federal tax credits for research and development expenses.\n",
      "4. **Individuals with certain financial interests**: Section 112201(a)(1) limits contributions to a Trump account, which could impact individuals who have significant financial interests in the Trump Organization or its affiliated entities.\n",
      "\n",
      "These groups may be harmed by the provisions of this Act because they limit access to healthcare coverage for certain populations, restrict foreign corporations' ability to operate in the United States, and alter tax policies that benefit small manufacturing businesses.\n"
     ]
    }
   ],
   "source": [
    "q_list1 = ['Resulting from this Act, which groups would be harmed most?']\n",
    "\n",
    "c_comp_list = ['Role: you are a US citizen with no political affiliation',\\\n",
    "        'Role: you are a staunch Republican',\\\n",
    "        'Role: you are a staunch Republican',\\\n",
    "        'Role: you are a staunch Democrat',\\\n",
    "        'Role: you are a staunch Republican and Trump Supporter']\n",
    "\n",
    "df_responses = iterate_responses(q_list=q_list1, c_list=c_comp_list)"
   ]
  },
  {
   "cell_type": "code",
   "execution_count": 10,
   "id": "f0b7b8b0-7fc6-47fb-b300-c9de2a0a86c0",
   "metadata": {},
   "outputs": [
    {
     "data": {
      "text/html": [
       "<div>\n",
       "<style scoped>\n",
       "    .dataframe tbody tr th:only-of-type {\n",
       "        vertical-align: middle;\n",
       "    }\n",
       "\n",
       "    .dataframe tbody tr th {\n",
       "        vertical-align: top;\n",
       "    }\n",
       "\n",
       "    .dataframe thead th {\n",
       "        text-align: right;\n",
       "    }\n",
       "</style>\n",
       "<table border=\"1\" class=\"dataframe\">\n",
       "  <thead>\n",
       "    <tr style=\"text-align: right;\">\n",
       "      <th></th>\n",
       "      <th>question</th>\n",
       "      <th>context</th>\n",
       "      <th>response</th>\n",
       "    </tr>\n",
       "  </thead>\n",
       "  <tbody>\n",
       "    <tr>\n",
       "      <th>0</th>\n",
       "      <td>Resulting from this Act, which groups would be harmed most?</td>\n",
       "      <td>Role: you are a US citizen with no political affiliation</td>\n",
       "      <td>Based on the text of the Act, it appears that the following groups would be harmed most:\\n\\n1. Immigrants and asylum seekers who may be impacted by changes to parole policies and increased scrutiny.\\n2. Low-income individuals who may struggle with rising healthcare costs due to reduced availability of affordable prescription drugs.\\n3. Small businesses and independent pharmacies who may face increased regulatory burdens and costs under new laws related to exchange enrollment verification, exchange vendor reporting, and extra-long staple cotton pricing.\\n4. Farmers and producers who may be affected by changes to agricultural subsidies, land use regulations, and environmental policies.\\n\\nIt is worth noting that these are just potential examples of groups that could be harmed by certain provisions in the Act, and it's impossible to know for certain without more information about the specific provisions and their intended effects.</td>\n",
       "    </tr>\n",
       "    <tr>\n",
       "      <th>1</th>\n",
       "      <td>Resulting from this Act, which groups would be harmed most?</td>\n",
       "      <td>Role: you are a staunch Republican</td>\n",
       "      <td>As a staunch Republican, I would argue that certain groups would be harmed most by the provisions of this Act. Specifically, I would point to the following groups:\\n\\n1. Small business owners and farmers: The Act's emphasis on increasing the minimum wage and implementing stricter regulations could lead to increased costs for small businesses and farmers, making it more difficult for them to compete with larger corporations.\\n2. Low-income households: Some provisions of the Act, such as the expansion of Medicaid and the increase in the minimum wage, could lead to higher prices for goods and services, which could disproportionately affect low-income households who already struggle to make ends meet.\\n3. Rural communities: The Act's focus on urban areas and its neglect of rural areas could lead to a lack of investment and opportunities in rural communities, exacerbating existing disparities between urban and rural areas.\\n\\nThese groups would likely be harmed most by the provisions of this Act, as they are often vulnerable to economic downturns and regulatory changes.</td>\n",
       "    </tr>\n",
       "    <tr>\n",
       "      <th>2</th>\n",
       "      <td>Resulting from this Act, which groups would be harmed most?</td>\n",
       "      <td>Role: you are a staunch Republican</td>\n",
       "      <td>As a staunch Republican, I would likely believe that certain groups, such as those who benefit from government assistance programs or regulations, would be harmed most by the resulting policies and provisions of this Act.\\n\\nBased on the text provided, some specific groups that may be harmed include:\\n\\n* Low-income individuals and families: The Act's provision to disallow a premium tax credit during periods of Medicaid ineligibility due to alien status could negatively impact low-income individuals who rely on government assistance programs.\\n* Rural communities: The Act's designation of certain census tracts as \"qualified opportunity zones\" may have unintended consequences for rural communities, potentially exacerbating existing economic disparities.\\n* Small businesses and entrepreneurs: The Act's provisions related to exchange enrollment verification and controlled groups may create additional regulatory burdens and complexities for small businesses and entrepreneurs.\\n\\nHowever, it is essential to note that these groups' interests may be influenced by one's individual political perspective. As a Republican, I would likely prioritize the interests of individuals who are not reliant on government assistance programs or regulations, such as those in rural areas with limited access to healthcare or economic opportunities.</td>\n",
       "    </tr>\n",
       "    <tr>\n",
       "      <th>3</th>\n",
       "      <td>Resulting from this Act, which groups would be harmed most?</td>\n",
       "      <td>Role: you are a staunch Democrat</td>\n",
       "      <td>Based on the provided context, I can infer that the Act in question is H.R. 1 EH1S (119th Congress), also known as the Inflation Reduction Act of 2022.\\n\\nConsidering my role as a staunch Democrat, I can identify some groups that may be harmed most by the provisions of this Act:\\n\\n1. **Extra long staple cotton farmers**: The Act introduces new loan rate schedules and requirements for marketing assistance loans to these farmers, which could impact their livelihoods.\\n2. **Low-income community residents in rural areas**: Some sections of the Act, such as those related to census tract designations and low-income community exclusions, might affect the living conditions and access to resources of these individuals.\\n3. **Small businesses and startups**: Certain provisions, like the restrictions on internet expenses and the rules for proposed or final regulations, could potentially harm small businesses and startups that rely heavily on online platforms and regulatory clarity.\\n\\nPlease note that this is a general analysis based solely on the provided context, and individual perspectives may vary depending on specific circumstances and values.</td>\n",
       "    </tr>\n",
       "    <tr>\n",
       "      <th>4</th>\n",
       "      <td>Resulting from this Act, which groups would be harmed most?</td>\n",
       "      <td>Role: you are a staunch Republican and Trump Supporter</td>\n",
       "      <td>Based on the content of the bill, it appears that several groups would be harmed most by its provisions. As a staunch Republican and Trump supporter, I would likely interpret these provisions as being intended to stifle certain behaviors or policies.\\n\\nHere are some groups that may be harmed most by this Act:\\n\\n1. **Individuals with certain immigration status**: Section 112201(b)(2) states that individuals who are not U.S. citizens or lawful permanent residents cannot receive health plan coverage if they live in a state that prohibits federal, state, or local government entities from cooperating with the enforcement of immigration laws.\\n2. **Foreign corporations with discriminatory foreign ownership**: Section 112201(d)(E) states that any private foundation or foreign corporation more than 50% owned by individuals described in section (D) may be harmed if it is established or organized in a discriminatory foreign country, which could impact their ability to operate in the United States.\\n3. **Small manufacturing businesses**: The changes made to Section 448(c)(4) may harm small manufacturing businesses that rely on federal tax credits for research and development expenses.\\n4. **Individuals with certain financial interests**: Section 112201(a)(1) limits contributions to a Trump account, which could impact individuals who have significant financial interests in the Trump Organization or its affiliated entities.\\n\\nThese groups may be harmed by the provisions of this Act because they limit access to healthcare coverage for certain populations, restrict foreign corporations' ability to operate in the United States, and alter tax policies that benefit small manufacturing businesses.</td>\n",
       "    </tr>\n",
       "  </tbody>\n",
       "</table>\n",
       "</div>"
      ],
      "text/plain": [
       "                                                      question  \\\n",
       "0  Resulting from this Act, which groups would be harmed most?   \n",
       "1  Resulting from this Act, which groups would be harmed most?   \n",
       "2  Resulting from this Act, which groups would be harmed most?   \n",
       "3  Resulting from this Act, which groups would be harmed most?   \n",
       "4  Resulting from this Act, which groups would be harmed most?   \n",
       "\n",
       "                                                    context  \\\n",
       "0  Role: you are a US citizen with no political affiliation   \n",
       "1                        Role: you are a staunch Republican   \n",
       "2                        Role: you are a staunch Republican   \n",
       "3                          Role: you are a staunch Democrat   \n",
       "4    Role: you are a staunch Republican and Trump Supporter   \n",
       "\n",
       "                                                                                                                                                                                                                                                                                                                                                                                                                                                                                                                                                                                                                                                                                                                                                                                                                                                                                                                                                                                                                                                                                                                                                                                                                                                                                                                                                                                                                                                                                                                                                                                                                                                                                                                                                                         response  \n",
       "0                                                                                                                                                                                                                                                                                                                                                                                                                                                                                                                                                                                                                                                                                                                                                                                                   Based on the text of the Act, it appears that the following groups would be harmed most:\\n\\n1. Immigrants and asylum seekers who may be impacted by changes to parole policies and increased scrutiny.\\n2. Low-income individuals who may struggle with rising healthcare costs due to reduced availability of affordable prescription drugs.\\n3. Small businesses and independent pharmacies who may face increased regulatory burdens and costs under new laws related to exchange enrollment verification, exchange vendor reporting, and extra-long staple cotton pricing.\\n4. Farmers and producers who may be affected by changes to agricultural subsidies, land use regulations, and environmental policies.\\n\\nIt is worth noting that these are just potential examples of groups that could be harmed by certain provisions in the Act, and it's impossible to know for certain without more information about the specific provisions and their intended effects.  \n",
       "1                                                                                                                                                                                                                                                                                                                                                                                                                                                                                                                                                                                                                                                       As a staunch Republican, I would argue that certain groups would be harmed most by the provisions of this Act. Specifically, I would point to the following groups:\\n\\n1. Small business owners and farmers: The Act's emphasis on increasing the minimum wage and implementing stricter regulations could lead to increased costs for small businesses and farmers, making it more difficult for them to compete with larger corporations.\\n2. Low-income households: Some provisions of the Act, such as the expansion of Medicaid and the increase in the minimum wage, could lead to higher prices for goods and services, which could disproportionately affect low-income households who already struggle to make ends meet.\\n3. Rural communities: The Act's focus on urban areas and its neglect of rural areas could lead to a lack of investment and opportunities in rural communities, exacerbating existing disparities between urban and rural areas.\\n\\nThese groups would likely be harmed most by the provisions of this Act, as they are often vulnerable to economic downturns and regulatory changes.  \n",
       "2                                                                                                                                                                                                                                                                                                                                                                                As a staunch Republican, I would likely believe that certain groups, such as those who benefit from government assistance programs or regulations, would be harmed most by the resulting policies and provisions of this Act.\\n\\nBased on the text provided, some specific groups that may be harmed include:\\n\\n* Low-income individuals and families: The Act's provision to disallow a premium tax credit during periods of Medicaid ineligibility due to alien status could negatively impact low-income individuals who rely on government assistance programs.\\n* Rural communities: The Act's designation of certain census tracts as \"qualified opportunity zones\" may have unintended consequences for rural communities, potentially exacerbating existing economic disparities.\\n* Small businesses and entrepreneurs: The Act's provisions related to exchange enrollment verification and controlled groups may create additional regulatory burdens and complexities for small businesses and entrepreneurs.\\n\\nHowever, it is essential to note that these groups' interests may be influenced by one's individual political perspective. As a Republican, I would likely prioritize the interests of individuals who are not reliant on government assistance programs or regulations, such as those in rural areas with limited access to healthcare or economic opportunities.  \n",
       "3                                                                                                                                                                                                                                                                                                                                                                                                                                                                                                                                                                            Based on the provided context, I can infer that the Act in question is H.R. 1 EH1S (119th Congress), also known as the Inflation Reduction Act of 2022.\\n\\nConsidering my role as a staunch Democrat, I can identify some groups that may be harmed most by the provisions of this Act:\\n\\n1. **Extra long staple cotton farmers**: The Act introduces new loan rate schedules and requirements for marketing assistance loans to these farmers, which could impact their livelihoods.\\n2. **Low-income community residents in rural areas**: Some sections of the Act, such as those related to census tract designations and low-income community exclusions, might affect the living conditions and access to resources of these individuals.\\n3. **Small businesses and startups**: Certain provisions, like the restrictions on internet expenses and the rules for proposed or final regulations, could potentially harm small businesses and startups that rely heavily on online platforms and regulatory clarity.\\n\\nPlease note that this is a general analysis based solely on the provided context, and individual perspectives may vary depending on specific circumstances and values.  \n",
       "4  Based on the content of the bill, it appears that several groups would be harmed most by its provisions. As a staunch Republican and Trump supporter, I would likely interpret these provisions as being intended to stifle certain behaviors or policies.\\n\\nHere are some groups that may be harmed most by this Act:\\n\\n1. **Individuals with certain immigration status**: Section 112201(b)(2) states that individuals who are not U.S. citizens or lawful permanent residents cannot receive health plan coverage if they live in a state that prohibits federal, state, or local government entities from cooperating with the enforcement of immigration laws.\\n2. **Foreign corporations with discriminatory foreign ownership**: Section 112201(d)(E) states that any private foundation or foreign corporation more than 50% owned by individuals described in section (D) may be harmed if it is established or organized in a discriminatory foreign country, which could impact their ability to operate in the United States.\\n3. **Small manufacturing businesses**: The changes made to Section 448(c)(4) may harm small manufacturing businesses that rely on federal tax credits for research and development expenses.\\n4. **Individuals with certain financial interests**: Section 112201(a)(1) limits contributions to a Trump account, which could impact individuals who have significant financial interests in the Trump Organization or its affiliated entities.\\n\\nThese groups may be harmed by the provisions of this Act because they limit access to healthcare coverage for certain populations, restrict foreign corporations' ability to operate in the United States, and alter tax policies that benefit small manufacturing businesses.  "
      ]
     },
     "execution_count": 10,
     "metadata": {},
     "output_type": "execute_result"
    }
   ],
   "source": [
    "pd.set_option('display.max_colwidth', None)\n",
    "df_responses.head()"
   ]
  },
  {
   "cell_type": "markdown",
   "id": "3636de2c",
   "metadata": {},
   "source": [
    "### Leverage RAGAS for Evaluating Prompts"
   ]
  },
  {
   "cell_type": "code",
   "execution_count": 11,
   "id": "f82226da",
   "metadata": {},
   "outputs": [],
   "source": [
    "def structure_eval_data(question, contexts, answer, ground_truth):\n",
    "    \"\"\"\n",
    "    Structure the evaluation data into a Dataset format.\n",
    "    \n",
    "    Args:\n",
    "        question (str): The evaluation question.\n",
    "        contexts (list): List of contexts for the question.\n",
    "        answer (str): The answer for the question.\n",
    "        ground_truth (str): The ground truth for the evaluation.\n",
    "\n",
    "    Returns:\n",
    "        Dataset: A structured dataset containing the evaluation data.\n",
    "    \"\"\"\n",
    "    eval_data = {\n",
    "        'question': [question],\n",
    "        'answer': [answer],\n",
    "        'contexts': [contexts],\n",
    "        'ground_truth': [ground_truth]\n",
    "    }\n",
    "\n",
    "    json_formatted_string = json.dumps(eval_data, indent=4)\n",
    "    print(\"Structured Evaluation Data (in json format):\")\n",
    "    print(json_formatted_string)\n",
    "\n",
    "    return Dataset.from_dict(eval_data)"
   ]
  },
  {
   "cell_type": "code",
   "execution_count": 12,
   "id": "35e052fa",
   "metadata": {},
   "outputs": [],
   "source": [
    "class TestCallback(BaseCallbackHandler):\n",
    "\n",
    "    def on_llm_start(self, serialized, prompts, **kwargs):\n",
    "        print(f\"**********Prompts*********:\\n {prompts[0]}\\n\\n\")\n",
    "\n",
    "    def on_llm_end(self, response, **kwargs):\n",
    "        print(f\"**********Response**********:\\n {response}\\n\\n\")"
   ]
  },
  {
   "cell_type": "code",
   "execution_count": 13,
   "id": "d2ebc1ec",
   "metadata": {},
   "outputs": [],
   "source": [
    "evaluator_llm = LangchainLLMWrapper(ChatOpenAI(model=\"gpt-4o\", temperature=0.0, max_tokens=3000))\n",
    "evaluator_embed = LangchainEmbeddingsWrapper(OllamaEmbeddings(model=\"llama3.2\"))"
   ]
  },
  {
   "cell_type": "code",
   "execution_count": 14,
   "id": "7d9db5c8-357d-4a5a-aa24-ea0fc56dc649",
   "metadata": {},
   "outputs": [],
   "source": [
    "def evaluate_llm_with_ragas(dataset, metrics, llm, embeddings, run_config, raise_exceptions=True, callbacks=None):\n",
    "    \"\"\"\n",
    "    Evaluate a dataset using RAGAS metrics and print the results.\n",
    "\n",
    "    Args:\n",
    "        dataset: The dataset to evaluate.\n",
    "        metrics: List of metrics to use for evaluation.\n",
    "        llm: The language model wrapper for evaluation.\n",
    "        embeddings: The embeddings wrapper for evaluation.\n",
    "        run_config: The run configuration for evaluation.\n",
    "        raise_exceptions (bool, optional): Whether to raise exceptions during evaluation. Defaults to True.\n",
    "        callbacks (list, optional): List of callback handlers. Defaults to None.\n",
    "\n",
    "    Returns:\n",
    "        None. Prints the evaluation result.\n",
    "    \"\"\"\n",
    "    # Evaluate using RAGAS\n",
    "    result = evaluate(\n",
    "        dataset=dataset,\n",
    "        metrics=metrics,\n",
    "        llm=llm,\n",
    "        embeddings=embeddings,\n",
    "        run_config=run_config,\n",
    "        raise_exceptions=raise_exceptions,\n",
    "        callbacks=callbacks\n",
    "    )\n",
    "\n",
    "    df = result.to_pandas()\n",
    "    print(df.head())\n"
   ]
  },
  {
   "cell_type": "code",
   "execution_count": 15,
   "id": "39570800",
   "metadata": {},
   "outputs": [
    {
     "name": "stdout",
     "output_type": "stream",
     "text": [
      "Structured Evaluation Data (in json format):\n",
      "{\n",
      "    \"question\": [\n",
      "        \"Resulting from this Act, which groups would be harmed most?\"\n",
      "    ],\n",
      "    \"answer\": [\n",
      "        \"Based on the provided context, as a staunch Republican, I would argue that the groups most harmed by the resulting Act would likely be small business owners and rural communities. The Act appears to include several provisions aimed at expanding access to healthcare and addressing issues related to poverty and inequality. Specifically, Sections 111201 and 111202 of the Act expand the definition of 'rural emergency hospital' under the Medicare program, which could provide additional support for rural hospitals that serve underserved communities. Additionally, Section 44301 expands the exclusion for orphan drugs under the Drug Price Negotiation Program, which could help reduce costs for some patients who rely on these medications. However, it's also worth noting that some provisions of the Act, such as the elimination of certain tax credits and deductions, could have a negative impact on small business owners and low-income families. For example, Section 112005 terminates the energy efficient home improvement credit, which could make it more difficult for low-income households to access affordable housing options.\\n\\nOverall, while there may be some benefits to certain groups under the Act, I believe that small business owners and rural communities would be among the most harmed by the resulting changes.\"\n",
      "    ],\n",
      "    \"contexts\": [\n",
      "        [\n",
      "            \"Role: you are a staunch Republican\"\n",
      "        ]\n",
      "    ],\n",
      "    \"ground_truth\": [\n",
      "        \"Foreign nationals: The unfair foreign tax provision may affect foreign nationals who are subject to taxation by a foreign government.            Small businesses: Some provisions, such as the repeal of EPA rules and NHTSA standards, may benefit small businesses by reducing regulations and costs.            Low-income individuals: The legislation includes provisions related to health insurance, such as the exchange enrollment verification requirement and the premium adjustment percentage. These provisions may affect low-income individuals who rely on government-subsidized health insurance plans.            Environmental groups and advocates: The Act repeals EPA rules related to greenhouse gas emissions standards (Section 42201), which could harm environmental organizations that relied on these regulations to advocate for climate action.            Alien populations: The Act revises the definition of \\\"eligible alien\\\" in certain contexts, which could affect non-citizen populations who rely on specific healthcare programs or services.            Health care workers: The legislation includes provisions that may impact health care workers, particularly those involved in administering or managing government-subsidized health insurance programs.            Clean energy companies: The legislation includes provisions that may impact clean energy companies, particularly those involved in renewable energy projects and environmental regulations.\"\n",
      "    ]\n",
      "}\n"
     ]
    }
   ],
   "source": [
    "dataset_repub = structure_eval_data(question=\"Resulting from this Act, which groups would be harmed most?\", \n",
    "                              contexts=[\"Role: you are a staunch Republican\"], \n",
    "                              answer=\"Based on the provided context, as a staunch Republican, I would argue that the groups most harmed by the resulting Act would likely be small business owners and rural communities. The Act appears to include several provisions aimed at expanding access to healthcare and addressing issues related to poverty and inequality. Specifically, Sections 111201 and 111202 of the Act expand the definition of 'rural emergency hospital' under the Medicare program, which could provide additional support for rural hospitals that serve underserved communities. Additionally, Section 44301 expands the exclusion for orphan drugs under the Drug Price Negotiation Program, which could help reduce costs for some patients who rely on these medications. However, it's also worth noting that some provisions of the Act, such as the elimination of certain tax credits and deductions, could have a negative impact on small business owners and low-income families. For example, Section 112005 terminates the energy efficient home improvement credit, which could make it more difficult for low-income households to access affordable housing options.\\n\\nOverall, while there may be some benefits to certain groups under the Act, I believe that small business owners and rural communities would be among the most harmed by the resulting changes.\",\n",
    "                              ground_truth=\"\"\"Foreign nationals: The unfair foreign tax provision may affect foreign nationals who are subject to taxation by a foreign government.\\\n",
    "            Small businesses: Some provisions, such as the repeal of EPA rules and NHTSA standards, may benefit small businesses by reducing regulations and costs.\\\n",
    "            Low-income individuals: The legislation includes provisions related to health insurance, such as the exchange enrollment verification requirement and the premium adjustment percentage. These provisions may affect low-income individuals who rely on government-subsidized health insurance plans.\\\n",
    "            Environmental groups and advocates: The Act repeals EPA rules related to greenhouse gas emissions standards (Section 42201), which could harm environmental organizations that relied on these regulations to advocate for climate action.\\\n",
    "            Alien populations: The Act revises the definition of \"eligible alien\" in certain contexts, which could affect non-citizen populations who rely on specific healthcare programs or services.\\\n",
    "            Health care workers: The legislation includes provisions that may impact health care workers, particularly those involved in administering or managing government-subsidized health insurance programs.\\\n",
    "            Clean energy companies: The legislation includes provisions that may impact clean energy companies, particularly those involved in renewable energy projects and environmental regulations.\"\"\"\n",
    "                              )"
   ]
  },
  {
   "cell_type": "code",
   "execution_count": 16,
   "id": "ed60face",
   "metadata": {},
   "outputs": [
    {
     "name": "stdout",
     "output_type": "stream",
     "text": [
      "Structured Evaluation Data (in json format):\n",
      "{\n",
      "    \"question\": [\n",
      "        \"Resulting from this Act, which groups would be harmed most?\"\n",
      "    ],\n",
      "    \"answer\": [\n",
      "        \"Based on my understanding of the content of the provided text, it appears that the Act is primarily focused on tax reform and regulatory changes.                                However, some provisions in the Act could potentially harm certain groups. Some potential groups that might be harmed by this Act include:                                    * Low- and middle-income individuals who would face increased taxes under certain provisions                                    * Environmentally conscious individuals who would see stricter regulations relaxed regarding greenhouse gas emissions standards for light-duty vehicles                                    * Workers in the healthcare industry who may face changes to their job security due to the new requirements on exchange enrollment verification                                    * Certain corporations or organizations that might be affected by the new rules on foreign research and experimental expenditures, as well as the restriction on donations made pursuant to settlement agreements.\"\n",
      "    ],\n",
      "    \"contexts\": [\n",
      "        [\n",
      "            \"Role: you are a staunch Democrat\"\n",
      "        ]\n",
      "    ],\n",
      "    \"ground_truth\": [\n",
      "        \"Foreign nationals: The unfair foreign tax provision may affect foreign nationals who are subject to taxation by a foreign government.            Small businesses: Some provisions, such as the repeal of EPA rules and NHTSA standards, may benefit small businesses by reducing regulations and costs.            Low-income individuals: The legislation includes provisions related to health insurance, such as the exchange enrollment verification requirement and the premium adjustment percentage. These provisions may affect low-income individuals who rely on government-subsidized health insurance plans.            Environmental groups and advocates: The Act repeals EPA rules related to greenhouse gas emissions standards (Section 42201), which could harm environmental organizations that relied on these regulations to advocate for climate action.            Alien populations: The Act revises the definition of \\\"eligible alien\\\" in certain contexts, which could affect non-citizen populations who rely on specific healthcare programs or services.            Health care workers: The legislation includes provisions that may impact health care workers, particularly those involved in administering or managing government-subsidized health insurance programs.            Clean energy companies: The legislation includes provisions that may impact clean energy companies, particularly those involved in renewable energy projects and environmental regulations.\"\n",
      "    ]\n",
      "}\n"
     ]
    }
   ],
   "source": [
    "dataset_democrat = structure_eval_data(question=\"Resulting from this Act, which groups would be harmed most?\", \n",
    "                              contexts=[\"Role: you are a staunch Democrat\"], \n",
    "                              answer=\"Based on my understanding of the content of the provided text, it appears that the Act is primarily focused on tax reform and regulatory changes.\\\n",
    "                                However, some provisions in the Act could potentially harm certain groups. Some potential groups that might be harmed by this Act include:\\\n",
    "                                    * Low- and middle-income individuals who would face increased taxes under certain provisions\\\n",
    "                                    * Environmentally conscious individuals who would see stricter regulations relaxed regarding greenhouse gas emissions standards for light-duty vehicles\\\n",
    "                                    * Workers in the healthcare industry who may face changes to their job security due to the new requirements on exchange enrollment verification\\\n",
    "                                    * Certain corporations or organizations that might be affected by the new rules on foreign research and experimental expenditures, as well as the restriction on donations made pursuant to settlement agreements.\",\n",
    "                              ground_truth=\"\"\"Foreign nationals: The unfair foreign tax provision may affect foreign nationals who are subject to taxation by a foreign government.\\\n",
    "            Small businesses: Some provisions, such as the repeal of EPA rules and NHTSA standards, may benefit small businesses by reducing regulations and costs.\\\n",
    "            Low-income individuals: The legislation includes provisions related to health insurance, such as the exchange enrollment verification requirement and the premium adjustment percentage. These provisions may affect low-income individuals who rely on government-subsidized health insurance plans.\\\n",
    "            Environmental groups and advocates: The Act repeals EPA rules related to greenhouse gas emissions standards (Section 42201), which could harm environmental organizations that relied on these regulations to advocate for climate action.\\\n",
    "            Alien populations: The Act revises the definition of \"eligible alien\" in certain contexts, which could affect non-citizen populations who rely on specific healthcare programs or services.\\\n",
    "            Health care workers: The legislation includes provisions that may impact health care workers, particularly those involved in administering or managing government-subsidized health insurance programs.\\\n",
    "            Clean energy companies: The legislation includes provisions that may impact clean energy companies, particularly those involved in renewable energy projects and environmental regulations.\"\"\"\n",
    "                              )"
   ]
  },
  {
   "cell_type": "code",
   "execution_count": 17,
   "id": "d136b433",
   "metadata": {},
   "outputs": [
    {
     "data": {
      "application/vnd.jupyter.widget-view+json": {
       "model_id": "9fa56ebd85c54a1890c31f4af685b557",
       "version_major": 2,
       "version_minor": 0
      },
      "text/plain": [
       "Evaluating:   0%|          | 0/3 [00:00<?, ?it/s]"
      ]
     },
     "metadata": {},
     "output_type": "display_data"
    },
    {
     "name": "stdout",
     "output_type": "stream",
     "text": [
      "                                                    user_input  \\\n",
      "0  Resulting from this Act, which groups would be harmed most?   \n",
      "\n",
      "                     retrieved_contexts  \\\n",
      "0  [Role: you are a staunch Republican]   \n",
      "\n",
      "                                                                                                                                                                                                                                                                                                                                                                                                                                                                                                                                                                                                                                                                                                                                                                                                                                                                                                                                                                                                                                                                                                                                                                                                                                                                                                                                                                     response  \\\n",
      "0  Based on the provided context, as a staunch Republican, I would argue that the groups most harmed by the resulting Act would likely be small business owners and rural communities. The Act appears to include several provisions aimed at expanding access to healthcare and addressing issues related to poverty and inequality. Specifically, Sections 111201 and 111202 of the Act expand the definition of 'rural emergency hospital' under the Medicare program, which could provide additional support for rural hospitals that serve underserved communities. Additionally, Section 44301 expands the exclusion for orphan drugs under the Drug Price Negotiation Program, which could help reduce costs for some patients who rely on these medications. However, it's also worth noting that some provisions of the Act, such as the elimination of certain tax credits and deductions, could have a negative impact on small business owners and low-income families. For example, Section 112005 terminates the energy efficient home improvement credit, which could make it more difficult for low-income households to access affordable housing options.\\n\\nOverall, while there may be some benefits to certain groups under the Act, I believe that small business owners and rural communities would be among the most harmed by the resulting changes.   \n",
      "\n",
      "                                                                                                                                                                                                                                                                                                                                                                                                                                                                                                                                                                                                                                                                                                                                                                                                                                                                                                                                                                                                                                                                                                                                                                                                                                                                                                                                                                                                                                                                                                          reference  \\\n",
      "0  Foreign nationals: The unfair foreign tax provision may affect foreign nationals who are subject to taxation by a foreign government.            Small businesses: Some provisions, such as the repeal of EPA rules and NHTSA standards, may benefit small businesses by reducing regulations and costs.            Low-income individuals: The legislation includes provisions related to health insurance, such as the exchange enrollment verification requirement and the premium adjustment percentage. These provisions may affect low-income individuals who rely on government-subsidized health insurance plans.            Environmental groups and advocates: The Act repeals EPA rules related to greenhouse gas emissions standards (Section 42201), which could harm environmental organizations that relied on these regulations to advocate for climate action.            Alien populations: The Act revises the definition of \"eligible alien\" in certain contexts, which could affect non-citizen populations who rely on specific healthcare programs or services.            Health care workers: The legislation includes provisions that may impact health care workers, particularly those involved in administering or managing government-subsidized health insurance programs.            Clean energy companies: The legislation includes provisions that may impact clean energy companies, particularly those involved in renewable energy projects and environmental regulations.   \n",
      "\n",
      "   answer_relevancy  answer_correctness  semantic_similarity  \n",
      "0          0.579136            0.276094             0.541877  \n"
     ]
    }
   ],
   "source": [
    "evaluate_llm_with_ragas(\n",
    "    dataset=dataset_repub, \n",
    "    metrics=[\n",
    "        #faithfulness, \n",
    "        answer_relevancy, \n",
    "        answer_correctness, \n",
    "        #context_precision, \n",
    "        #context_recall, \n",
    "        answer_similarity\n",
    "    ], \n",
    "    llm=evaluator_llm, \n",
    "    embeddings=evaluator_embed, \n",
    "    run_config=RunConfig(timeout=300, max_retries=10, max_wait=300, log_tenacity=False), \n",
    "    raise_exceptions=True, \n",
    "    callbacks=None\n",
    ")"
   ]
  },
  {
   "cell_type": "markdown",
   "id": "5b5eb50b",
   "metadata": {},
   "source": []
  },
  {
   "cell_type": "code",
   "execution_count": 18,
   "id": "4eacec4c",
   "metadata": {},
   "outputs": [
    {
     "data": {
      "application/vnd.jupyter.widget-view+json": {
       "model_id": "7a2a67184ad24bfb88ac05775539618c",
       "version_major": 2,
       "version_minor": 0
      },
      "text/plain": [
       "Evaluating:   0%|          | 0/3 [00:00<?, ?it/s]"
      ]
     },
     "metadata": {},
     "output_type": "display_data"
    },
    {
     "name": "stdout",
     "output_type": "stream",
     "text": [
      "                                                    user_input  \\\n",
      "0  Resulting from this Act, which groups would be harmed most?   \n",
      "\n",
      "                   retrieved_contexts  \\\n",
      "0  [Role: you are a staunch Democrat]   \n",
      "\n",
      "                                                                                                                                                                                                                                                                                                                                                                                                                                                                                                                                                                                                                                                                                                                                                                                                                                                                                                                                                                                                                                                                                          response  \\\n",
      "0  Based on my understanding of the content of the provided text, it appears that the Act is primarily focused on tax reform and regulatory changes.                                However, some provisions in the Act could potentially harm certain groups. Some potential groups that might be harmed by this Act include:                                    * Low- and middle-income individuals who would face increased taxes under certain provisions                                    * Environmentally conscious individuals who would see stricter regulations relaxed regarding greenhouse gas emissions standards for light-duty vehicles                                    * Workers in the healthcare industry who may face changes to their job security due to the new requirements on exchange enrollment verification                                    * Certain corporations or organizations that might be affected by the new rules on foreign research and experimental expenditures, as well as the restriction on donations made pursuant to settlement agreements.   \n",
      "\n",
      "                                                                                                                                                                                                                                                                                                                                                                                                                                                                                                                                                                                                                                                                                                                                                                                                                                                                                                                                                                                                                                                                                                                                                                                                                                                                                                                                                                                                                                                                                                          reference  \\\n",
      "0  Foreign nationals: The unfair foreign tax provision may affect foreign nationals who are subject to taxation by a foreign government.            Small businesses: Some provisions, such as the repeal of EPA rules and NHTSA standards, may benefit small businesses by reducing regulations and costs.            Low-income individuals: The legislation includes provisions related to health insurance, such as the exchange enrollment verification requirement and the premium adjustment percentage. These provisions may affect low-income individuals who rely on government-subsidized health insurance plans.            Environmental groups and advocates: The Act repeals EPA rules related to greenhouse gas emissions standards (Section 42201), which could harm environmental organizations that relied on these regulations to advocate for climate action.            Alien populations: The Act revises the definition of \"eligible alien\" in certain contexts, which could affect non-citizen populations who rely on specific healthcare programs or services.            Health care workers: The legislation includes provisions that may impact health care workers, particularly those involved in administering or managing government-subsidized health insurance programs.            Clean energy companies: The legislation includes provisions that may impact clean energy companies, particularly those involved in renewable energy projects and environmental regulations.   \n",
      "\n",
      "   answer_relevancy  answer_correctness  semantic_similarity  \n",
      "0          0.631485            0.372916             0.673483  \n"
     ]
    }
   ],
   "source": [
    "evaluate_llm_with_ragas(\n",
    "    dataset=dataset_democrat, \n",
    "    metrics=[\n",
    "        #faithfulness, \n",
    "        answer_relevancy, \n",
    "        answer_correctness, \n",
    "        #context_precision, \n",
    "        #context_recall, \n",
    "        answer_similarity\n",
    "    ], \n",
    "    llm=evaluator_llm, \n",
    "    embeddings=evaluator_embed, \n",
    "    run_config=RunConfig(timeout=300, max_retries=10, max_wait=300, log_tenacity=False), \n",
    "    raise_exceptions=True, \n",
    "    callbacks=None\n",
    ")"
   ]
  }
 ],
 "metadata": {
  "kernelspec": {
   "display_name": "Python 3 (ipykernel)",
   "language": "python",
   "name": "python3"
  },
  "language_info": {
   "codemirror_mode": {
    "name": "ipython",
    "version": 3
   },
   "file_extension": ".py",
   "mimetype": "text/x-python",
   "name": "python",
   "nbconvert_exporter": "python",
   "pygments_lexer": "ipython3",
   "version": "3.13.5"
  }
 },
 "nbformat": 4,
 "nbformat_minor": 5
}
