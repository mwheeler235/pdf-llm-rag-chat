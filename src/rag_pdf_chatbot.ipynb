{
 "cells": [
  {
   "cell_type": "code",
   "execution_count": 1,
   "id": "85bff0e5-6f62-456d-8de9-66bc964de77c",
   "metadata": {},
   "outputs": [],
   "source": [
    "from langchain_community.document_loaders import UnstructuredPDFLoader\n",
    "from langchain_community.embeddings import OllamaEmbeddings\n",
    "from langchain_text_splitters import RecursiveCharacterTextSplitter\n",
    "from langchain_community.vectorstores import Chroma\n",
    "from langchain.prompts import ChatPromptTemplate, PromptTemplate\n",
    "from langchain_core.output_parsers import StrOutputParser\n",
    "from langchain_ollama import OllamaEmbeddings, ChatOllama\n",
    "from langchain_core.runnables import RunnablePassthrough\n",
    "from langchain.retrievers.multi_query import MultiQueryRetriever\n",
    "from tqdm.notebook import tqdm\n",
    "import time\n",
    "import itertools"
   ]
  },
  {
   "cell_type": "code",
   "execution_count": 2,
   "id": "1b87f477-4a21-4956-9390-2a3ea2eb973b",
   "metadata": {},
   "outputs": [],
   "source": [
    "local_path = \"../pdf/BILLS-119hr1eh.pdf\"\n",
    "\n",
    "if local_path:\n",
    "    loader = UnstructuredPDFLoader(file_path=local_path)\n",
    "    data = loader.load()\n",
    "else:\n",
    "    print(\"Upload a PDF file for processing.\")"
   ]
  },
  {
   "cell_type": "code",
   "execution_count": 3,
   "id": "160ce65b-2aab-456c-a834-29275c0185c7",
   "metadata": {},
   "outputs": [
    {
     "data": {
      "text/plain": [
       "1136279"
      ]
     },
     "execution_count": 3,
     "metadata": {},
     "output_type": "execute_result"
    }
   ],
   "source": [
    "len(data[0].page_content)"
   ]
  },
  {
   "cell_type": "code",
   "execution_count": 4,
   "id": "f76fed48-d424-4c98-90dc-2a052fe543ff",
   "metadata": {},
   "outputs": [
    {
     "name": "stderr",
     "output_type": "stream",
     "text": [
      "Failed to send telemetry event ClientStartEvent: capture() takes 1 positional argument but 3 were given\n",
      "Failed to send telemetry event ClientCreateCollectionEvent: capture() takes 1 positional argument but 3 were given\n"
     ]
    }
   ],
   "source": [
    "#Split and chunk the data\n",
    "chunk_size = 750\n",
    "chunk_overlap = 200\n",
    "\n",
    "text_splitter = RecursiveCharacterTextSplitter(chunk_size=chunk_size, chunk_overlap=chunk_overlap)\n",
    "chunks = text_splitter.split_documents(data)\n",
    "\n",
    "# Add the chunks to vector database, which uses nomic for model embeddings\n",
    "vector_db = Chroma.from_documents(\n",
    "                                    documents=chunks, \n",
    "                                    embedding=OllamaEmbeddings(model=\"nomic-embed-text\"),\n",
    "                                    collection_name=\"local-rag\"\n",
    "                                )"
   ]
  },
  {
   "cell_type": "code",
   "execution_count": 5,
   "id": "2f3e4f6f-e2dd-49bb-9d69-6bcfe62fda48",
   "metadata": {},
   "outputs": [],
   "source": [
    "local_llm = \"llama3.2\"\n",
    "llm = ChatOllama(model=local_llm)\n",
    "\n",
    "# Set up a basic PromptTemplate as the backbones of the solution\n",
    "# Ask the system to gather several responses and to limit response to 200 words\n",
    "QUERY_PROMPT = PromptTemplate(\n",
    "    input_variables = [\"question\"],\n",
    "        template=\"\"\"You are an AI Language model assistant. Your task is to generate three different versions of the given user question \n",
    "        to retrieve relavant documents from a vector database. By generating multiple perspectives on the user question, your goal is \n",
    "        to help the user overcome some of the limitations of the distance-based similarity search. Please be as concise as possible and \n",
    "        limit your response to 200 words or less. \n",
    "        Original question: {question} \"\"\"\n",
    ")\n",
    "\n",
    "retriever = MultiQueryRetriever.from_llm(vector_db.as_retriever(),llm, prompt=QUERY_PROMPT)"
   ]
  },
  {
   "cell_type": "code",
   "execution_count": 6,
   "id": "305cffd9-432c-4696-aa09-30ae4934e959",
   "metadata": {},
   "outputs": [],
   "source": [
    "# use a ChatPromptTemplate to initiate a conversation, allowing the System to assume a Role\n",
    "chat_template = \"\"\"Answer the question based only on the following context: \n",
    "{context}\n",
    "Question: {question}\n",
    "\"\"\"\n",
    "\n",
    "prompt = ChatPromptTemplate.from_template(chat_template)\n",
    "\n",
    "chain = (\n",
    "    {\"context\":retriever, \"question\":RunnablePassthrough()}\n",
    "    | prompt \n",
    "    | llm \n",
    "    | StrOutputParser()\n",
    ")"
   ]
  },
  {
   "cell_type": "markdown",
   "id": "fdc31389-97c2-439f-991f-afd27f0243c8",
   "metadata": {},
   "source": [
    "### Context-Driven responses"
   ]
  },
  {
   "cell_type": "code",
   "execution_count": 7,
   "id": "dd9bc488-abd7-4fef-bb83-1b37f1441d75",
   "metadata": {},
   "outputs": [
    {
     "name": "stderr",
     "output_type": "stream",
     "text": [
      "Failed to send telemetry event CollectionQueryEvent: capture() takes 1 positional argument but 3 were given\n"
     ]
    },
    {
     "name": "stdout",
     "output_type": "stream",
     "text": [
      "*** \n",
      "\n",
      "Question - Resulting from this Act, which groups would be harmed most?\n",
      "Context - Role: you are a staunch Democrat \n",
      "\n",
      "Response: \n",
      " As a staunch Democrat, I would argue that this Act would harm the most low-income and marginalized communities, who already struggle with access to healthcare, education, and economic opportunities. The provisions in the Act, such as the expansion of health savings accounts and the reduced funding for Medicaid, would disproportionately affect these groups.\n",
      "\n",
      "Additionally, the Act's emphasis on individual responsibility and market-based solutions would likely exacerbate existing systemic inequalities, such as racial and socioeconomic disparities in healthcare outcomes and access to quality education. Furthermore, the lack of protections for pre-existing conditions and the erosion of the Affordable Care Act would leave many vulnerable individuals without adequate health insurance coverage.\n",
      "\n",
      "In particular, the following groups may be harmed most:\n",
      "\n",
      "1. Low-income families: The expansion of health savings accounts and the reduction in Medicaid funding would limit their access to affordable healthcare.\n",
      "2. Minority communities: The erosion of protections for pre-existing conditions and the emphasis on individual responsibility would disproportionately affect communities of color, who are already more likely to face systemic barriers to healthcare and economic opportunities.\n",
      "3. Rural communities: The exclusion from AGI calculation provisions and the reduction in funding for community health centers would further exacerbate existing healthcare disparities in rural areas.\n",
      "4. Indigenous communities: The lack of protections for pre-existing conditions and the erosion of the Affordable Care Act would leave many Native American tribes without access to adequate healthcare coverage.\n",
      "\n",
      "Overall, as a staunch Democrat, I believe that this Act would perpetuate existing systemic inequalities and harm some of the most vulnerable populations in our society.\n",
      "*** \n",
      "\n",
      "Question - Resulting from this Act, which groups would be harmed most?\n",
      "Context - Role: you are a staunch Republican \n",
      "\n",
      "Response: \n",
      " As a staunch Republican, I would argue that the groups most harmed by this Act are those who have been unfairly targeted by foreign governments with \"unfair foreign taxes\". Specifically, I believe that small business owners and farmers in the sugar industry would be disproportionately affected by the changes to the sugar program. These individuals rely on the stability of the sugar market to make a living, and any disruptions or uncertainties caused by these new tax laws could have devastating consequences for them.\n",
      "\n",
      "Additionally, I might also point out that certain international organizations, such as the United Nations Children's Fund (UNICEF), may be affected by the changes in foreign aid funding due to the provision of economic adjustment assistance. These organizations rely on a stable and predictable flow of funds to continue their essential work, and any disruptions could have far-reaching consequences for children around the world.\n",
      "\n",
      "It's worth noting that I would also be concerned about the impact of this Act on American taxpayers, particularly those who may be subject to withholding taxes on their foreign-earned income. The provision of an \"eligible out-of-State provider\" definition may lead to unintended consequences for certain individuals or businesses, and it's essential to ensure that any changes are carefully considered to avoid harming innocent parties.\n",
      "\n",
      "Overall, as a staunch Republican, I would prioritize the protection of American interests, small business owners, farmers, and international organizations, while also ensuring that the Act is implemented in a fair and responsible manner.\n",
      "*** \n",
      "\n",
      "Question - Resulting from this Act, which groups would be harmed most?\n",
      "Context - Role: you are a US citizen with no political affiliation \n",
      "\n",
      "Response: \n",
      " Based on the provided text, it appears that the Act aims to make changes related to various topics such as healthcare, education, and foreign affairs. However, without more specific information about the Act's provisions, it is difficult to determine which groups would be harmed most.\n",
      "\n",
      "That being said, some potential groups that could be harmed by certain provisions of the Act include:\n",
      "\n",
      "* Low-income individuals or families who may face increased costs for healthcare or other services as a result of changes to the Act.\n",
      "* Students or researchers who may be impacted by changes to education funding or research policies.\n",
      "* Foreign nationals who are considered \"applicable persons\" under certain sections of the Act, which could lead to increased scrutiny or penalties for them.\n",
      "\n",
      "It is also possible that certain groups, such as marginalized communities or environmental organizations, may be disproportionately affected by the Act's provisions. However, without more information about the specific changes made by the Act, it is difficult to say for certain which groups would be harmed most.\n",
      "*** \n",
      "\n",
      "Question - Resulting from this Act, which groups would be harmed most?\n",
      "Context - Role: you are a wealthy investor with interests in oil, gas, and mining \n",
      "\n",
      "Response: \n",
      " Based on the text provided, the following groups would likely be harmed most by the provisions of this Act:\n",
      "\n",
      "1. **Refined sugar producers and processors**: The Act requires a study to determine whether additional terms and conditions with respect to refined sugar imports are necessary and appropriate. This suggests that the industry may face increased regulations or restrictions.\n",
      "2. **Domestic sugar industry users**: As mentioned in the Act, the Secretary shall consult with representatives of the domestic sugar industry. This implies that these users may be affected by changes in the market or regulatory environment.\n",
      "3. **Sugar cane producers and processors**: Although not explicitly mentioned in the text, it is likely that sugar cane producers and processors would also be impacted by any changes to the refined sugar industry.\n",
      "\n",
      "These groups may face increased costs, reduced competitiveness, or other negative consequences as a result of the Act's provisions. However, without more specific information, it is difficult to predict the exact nature of the harm they will suffer.\n",
      "\n",
      "As an investor with interests in oil, gas, and mining, you may want to consider the potential impact of this Act on these industries as well. For example, the increased regulatory environment could lead to higher costs or reduced competitiveness for companies operating in these sectors.\n",
      "*** \n",
      "\n",
      "Question - Resulting from this Act, which groups would benefit most?\n",
      "Context - Role: you are a staunch Democrat \n",
      "\n",
      "Response: \n",
      " Based on the text, it appears that various groups would benefit from different provisions of the Act. However, as a staunch Democrat, I would argue that low-income communities, particularly those in rural areas, would be among the groups that benefit most.\n",
      "\n",
      "The Act's modifications to the definition of \"low-income community\" and the establishment of qualified opportunity zones for these communities aim to provide economic opportunities and incentives for investment in these areas. This could lead to job creation, infrastructure development, and improved living conditions for residents of these communities.\n",
      "\n",
      "Additionally, the expansion of the exclusion for orphan drugs under the Drug Price Negotiation Program may also benefit low-income communities, as it would allow them to access affordable medications and healthcare services.\n",
      "\n",
      "Overall, while various groups would likely benefit from different aspects of the Act, I believe that low-income communities in rural areas would be among the most positively impacted.\n",
      "*** \n",
      "\n",
      "Question - Resulting from this Act, which groups would benefit most?\n",
      "Context - Role: you are a staunch Republican \n",
      "\n",
      "Response: \n",
      " The groups that would benefit most from this Act, as a staunch Republican, would likely be those that align with conservative values and priorities. In the context of the table of contents provided, which appears to relate to the Committee on Agriculture and its subcommittee, I would argue that the following groups would benefit most:\n",
      "\n",
      "1. **Farmers and agricultural businesses**: The Thrifty Food Plan and Standard Utility Allowances are provisions that seem designed to support farmers and rural communities by reducing food costs and energy expenses.\n",
      "2. **Low-income families with dependents**: The Able Bodied Adults Without Dependents Work Requirements and the National Accuracy Clearinghouse suggest that this Act aims to encourage work and reduce dependency, which would benefit low-income families with dependents who may be more likely to struggle with these issues.\n",
      "3. **Small businesses and entrepreneurs**: The Matching Funds Requirements and Administrative Cost Sharing provisions could help small businesses and entrepreneurs by providing them with access to funding and reducing regulatory burdens.\n",
      "\n",
      "As a Republican, I might view the overall impact of this Act as being generally beneficial to conservative values such as limited government intervention, individual responsibility, and economic growth. However, it's essential to note that my interpretation is based solely on the provided table of contents and may not reflect the full implications or nuances of the actual legislation.\n",
      "\n",
      "Now, if I were a staunch Democrat, I would likely argue that this Act benefits groups like rural communities, farmers, and low-income families who are disproportionately affected by economic inequality.\n",
      "*** \n",
      "\n",
      "Question - Resulting from this Act, which groups would benefit most?\n",
      "Context - Role: you are a US citizen with no political affiliation \n",
      "\n",
      "Response: \n",
      " This Act appears to have various provisions affecting different sectors of the American society. However, some groups that might benefit most from this Act include:\n",
      "\n",
      "1.  Children who were brought into the United States as minors and have been granted Deferred Action for Childhood Arrivals (DACA) status but do not qualify for other forms of relief.\n",
      "2.  Law enforcement officials who may be eligible for pardons or more lenient treatment in certain cases.\n",
      "\n",
      "These groups might benefit from the provisions related to immigration, pardons, or changes in tax laws, among others.\n",
      "*** \n",
      "\n",
      "Question - Resulting from this Act, which groups would benefit most?\n",
      "Context - Role: you are a wealthy investor with interests in oil, gas, and mining \n",
      "\n",
      "Response: \n",
      " Based on the provided context, it appears that the Act is primarily focused on energy production and commodities. As a wealthy investor with interests in oil, gas, and mining, I believe that the following groups would benefit most from the resulting changes:\n",
      "\n",
      "1. Oil and gas companies: The Act seems to introduce new provisions related to marketing loans, loan rates, and subsidies for oil and gas production. These changes could lead to increased investment and profitability for oil and gas companies.\n",
      "2. Mining companies: The Act also mentions \"covered energy project\" which includes mining activities. This suggests that mining companies may benefit from the new provisions related to marketing loans, loan rates, and subsidies.\n",
      "3. Sponsor capital contributions: The Act introduces a new concept of \"sponsor capital contribution\", which could be beneficial for investors who are involved in sponsoring covered energy projects.\n",
      "\n",
      "However, it's worth noting that other groups, such as rural community businesses and small-scale farmers, may also benefit from the Act's provisions related to marketing loans and subsidies.\n"
     ]
    }
   ],
   "source": [
    "def iterate_response(q, context):\n",
    "\n",
    "    response = chain.invoke(input={'context': context, 'question': q})\n",
    "    \n",
    "    print('*** \\n')\n",
    "    print(f\"Question - {q}\")\n",
    "    print(f\"Context - {context} \\n\")\n",
    "    print(\"Response: \\n\", response)\n",
    "    \n",
    "\n",
    "q_list = ['Resulting from this Act, which groups would be harmed most?',\\\n",
    "          'Resulting from this Act, which groups would benefit most?']\n",
    "\n",
    "c_list = ['Role: you are a staunch Democrat',\\\n",
    "          'Role: you are a staunch Republican',\\\n",
    "          'Role: you are a US citizen with no political affiliation',\\\n",
    "          'Role: you are a wealthy investor with interests in oil, gas, and mining']\n",
    "\n",
    "for combo in itertools.product(q_list, c_list):\n",
    "    iterate_response(q=combo[0], context=combo[1])"
   ]
  }
 ],
 "metadata": {
  "kernelspec": {
   "display_name": "Python 3 (ipykernel)",
   "language": "python",
   "name": "python3"
  },
  "language_info": {
   "codemirror_mode": {
    "name": "ipython",
    "version": 3
   },
   "file_extension": ".py",
   "mimetype": "text/x-python",
   "name": "python",
   "nbconvert_exporter": "python",
   "pygments_lexer": "ipython3",
   "version": "3.13.5"
  }
 },
 "nbformat": 4,
 "nbformat_minor": 5
}
