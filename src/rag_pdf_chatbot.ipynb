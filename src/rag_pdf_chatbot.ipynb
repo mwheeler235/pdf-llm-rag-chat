{
 "cells": [
  {
   "cell_type": "code",
   "execution_count": 1,
   "id": "85bff0e5-6f62-456d-8de9-66bc964de77c",
   "metadata": {},
   "outputs": [],
   "source": [
    "from langchain_community.document_loaders import UnstructuredPDFLoader\n",
    "from langchain_community.embeddings import OllamaEmbeddings\n",
    "from langchain_text_splitters import RecursiveCharacterTextSplitter\n",
    "from langchain_community.vectorstores import Chroma\n",
    "from langchain.prompts import ChatPromptTemplate, PromptTemplate\n",
    "from langchain_core.output_parsers import StrOutputParser\n",
    "from langchain_ollama import OllamaEmbeddings, ChatOllama\n",
    "from langchain_core.runnables import RunnablePassthrough\n",
    "from langchain.retrievers.multi_query import MultiQueryRetriever\n",
    "from tqdm.notebook import tqdm\n",
    "import time\n",
    "import itertools"
   ]
  },
  {
   "cell_type": "code",
   "execution_count": 2,
   "id": "1b87f477-4a21-4956-9390-2a3ea2eb973b",
   "metadata": {},
   "outputs": [],
   "source": [
    "local_path = \"../pdf/BILLS-119hr1eh.pdf\"\n",
    "\n",
    "if local_path:\n",
    "    loader = UnstructuredPDFLoader(file_path=local_path)\n",
    "    data = loader.load()\n",
    "else:\n",
    "    print(\"Upload a PDF file for processing.\")"
   ]
  },
  {
   "cell_type": "code",
   "execution_count": 3,
   "id": "160ce65b-2aab-456c-a834-29275c0185c7",
   "metadata": {},
   "outputs": [
    {
     "data": {
      "text/plain": [
       "1136279"
      ]
     },
     "execution_count": 3,
     "metadata": {},
     "output_type": "execute_result"
    }
   ],
   "source": [
    "len(data[0].page_content)"
   ]
  },
  {
   "cell_type": "code",
   "execution_count": 4,
   "id": "f76fed48-d424-4c98-90dc-2a052fe543ff",
   "metadata": {},
   "outputs": [
    {
     "name": "stderr",
     "output_type": "stream",
     "text": [
      "Failed to send telemetry event ClientStartEvent: capture() takes 1 positional argument but 3 were given\n",
      "Failed to send telemetry event ClientCreateCollectionEvent: capture() takes 1 positional argument but 3 were given\n"
     ]
    }
   ],
   "source": [
    "#Split and chunk the data\n",
    "chunk_size = 750\n",
    "chunk_overlap = 200\n",
    "\n",
    "text_splitter = RecursiveCharacterTextSplitter(chunk_size=chunk_size, chunk_overlap=chunk_overlap)\n",
    "chunks = text_splitter.split_documents(data)\n",
    "\n",
    "# Add the chunks to vector database, which uses nomic for model embeddings\n",
    "vector_db = Chroma.from_documents(\n",
    "                                    documents=chunks, \n",
    "                                    embedding=OllamaEmbeddings(model=\"nomic-embed-text\"),\n",
    "                                    collection_name=\"local-rag\"\n",
    "                                )"
   ]
  },
  {
   "cell_type": "code",
   "execution_count": 5,
   "id": "2f3e4f6f-e2dd-49bb-9d69-6bcfe62fda48",
   "metadata": {},
   "outputs": [],
   "source": [
    "local_llm = \"llama3.2\"\n",
    "llm = ChatOllama(model=local_llm)\n",
    "\n",
    "# Set up a basic PromptTemplate as the backbones of the solution\n",
    "# Ask the system to gather several responses and to limit response to 200 words\n",
    "QUERY_PROMPT = PromptTemplate(\n",
    "    input_variables = [\"question\"],\n",
    "        template=\"\"\"You are an AI Language model assistant. Your task is to generate three different versions of the given user question \n",
    "        to retrieve relavant documents from a vector database. By generating multiple perspectives on the user question, your goal is \n",
    "        to help the user overcome some of the limitations of the distance-based similarity search. Please be as concise as possible and \n",
    "        limit your response to 200 words or less. \n",
    "        Original question: {question} \"\"\"\n",
    ")\n",
    "\n",
    "retriever = MultiQueryRetriever.from_llm(vector_db.as_retriever(),llm, prompt=QUERY_PROMPT)"
   ]
  },
  {
   "cell_type": "code",
   "execution_count": 6,
   "id": "305cffd9-432c-4696-aa09-30ae4934e959",
   "metadata": {},
   "outputs": [],
   "source": [
    "# use a ChatPromptTemplate to initiate a conversation, allowing the System to assume a Role\n",
    "chat_template = \"\"\"Answer the question based only on the following context: \n",
    "{context}\n",
    "Question: {question}\n",
    "\"\"\"\n",
    "\n",
    "prompt = ChatPromptTemplate.from_template(chat_template)\n",
    "\n",
    "chain = (\n",
    "    {\"context\":retriever, \"question\":RunnablePassthrough()}\n",
    "    | prompt \n",
    "    | llm \n",
    "    | StrOutputParser()\n",
    ")"
   ]
  },
  {
   "cell_type": "markdown",
   "id": "fdc31389-97c2-439f-991f-afd27f0243c8",
   "metadata": {},
   "source": [
    "### Context-Driven responses"
   ]
  },
  {
   "cell_type": "code",
   "execution_count": 7,
   "id": "dd9bc488-abd7-4fef-bb83-1b37f1441d75",
   "metadata": {},
   "outputs": [
    {
     "name": "stderr",
     "output_type": "stream",
     "text": [
      "Failed to send telemetry event CollectionQueryEvent: capture() takes 1 positional argument but 3 were given\n"
     ]
    },
    {
     "name": "stdout",
     "output_type": "stream",
     "text": [
      "*** \n",
      "\n",
      "Question - Resulting from this Act, which groups would be harmed most?\n",
      "Context - Role: you are a staunch Democrat \n",
      "\n",
      "Response: \n",
      " The resulting groups that would be harmed most from this Act are individuals who are tax residents of discriminatory foreign countries. This includes foreign corporations that are also tax residents of such countries, as well as government officials and other entities of a discriminatory foreign country. These individuals and entities may face barriers to access the market in their home country due to protectionist policies imposed by their own government, which could harm them most as a result of this Act.\n",
      "*** \n",
      "\n",
      "Question - Resulting from this Act, which groups would be harmed most?\n",
      "Context - Role: you are a staunch Republican \n",
      "\n",
      "Response: \n",
      " Based on the provided context, I would argue that the groups most likely to be harmed by this Act are small businesses and rural communities. The Act seems to be focused on expanding and enhancing opportunity zones, particularly in low-income communities.\n",
      "\n",
      "However, upon closer examination of the text, it appears that the Act may actually benefit these very same groups. Section 111102(a) modifies the definition of a low-income community, allowing for a lower percentage of poverty threshold (from 80% to 70%), which could make it easier for small businesses and rural communities to access opportunity zones.\n",
      "\n",
      "Furthermore, section 44301 expands and clarifies the exclusion for orphan drugs under the Drug Price Negotiation Program, which may help small businesses and rural communities by reducing the cost of certain medications. Additionally, the Act includes provisions related to improving Americans' access to care, such as expanding community services block grants and enhancing the exclusion for medium grain rice and extra long staple cotton.\n",
      "\n",
      "Overall, while it is difficult to make definitive statements without more context, it appears that this Act may actually benefit small businesses and rural communities rather than harm them.\n",
      "*** \n",
      "\n",
      "Question - Resulting from this Act, which groups would be harmed most?\n",
      "Context - Role: you are a US citizen with no political affiliation \n",
      "\n",
      "Response: \n",
      " Based on the provided context, it appears that the Act in question aims to make changes to various provisions related to Medicaid, Social Security, and opportunity zones. While the text does not explicitly state which groups would be harmed most by the resulting Act, some potential groups that could be disproportionately affected include:\n",
      "\n",
      "1. Low-income individuals: The amendments to Section 1902 of the Social Security Act, particularly the new subsection (xx), may impact the community engagement requirements for certain individuals, potentially affecting low-income individuals who rely on Medicaid benefits.\n",
      "\n",
      "2. Undocumented immigrants and their families: The changes related to immigrant status, citizenship, and nationality might affect undocumented immigrants and their families, who could face challenges in accessing certain services or benefits due to their immigration status.\n",
      "\n",
      "3. Rural communities: The amendment to Section 1400Z-1(¢)(1) may alter the definition of low-income communities, potentially impacting rural areas that rely on Medicaid funding for health services.\n",
      "\n",
      "4. Small businesses and entrepreneurs: The introduction of qualified opportunity funds (QOFs) and qualified rural opportunity zone businesses might create new opportunities for small businesses and entrepreneurs, but they could also face challenges in meeting specific requirements or navigating complex regulations.\n",
      "\n",
      "5. Community-based organizations: The amendments to Section 1902 of the Social Security Act may require community-based organizations to demonstrate community engagement, potentially impacting their ability to provide services to low-income individuals or families.\n",
      "\n",
      "It is essential to note that these are hypothetical assessments based on limited information and might not accurately reflect the actual impact of the Act on specific groups. The effects of the legislation could be far-reaching and complex, with both positive and negative consequences for various stakeholders.\n",
      "*** \n",
      "\n",
      "Question - Resulting from this Act, which groups would be harmed most?\n",
      "Context - Role: you are a wealthy investor with interests in oil, gas, and mining \n",
      "\n",
      "Response: \n",
      " Based on the provided text, it appears that the Act would have a significant impact on various industries and groups. However, without more specific information about the Act's provisions, it is difficult to determine with certainty which groups would be harmed most.\n",
      "\n",
      "That being said, considering your interests in oil, gas, and mining, some potential groups that could be harmed by this Act include:\n",
      "\n",
      "1. Oil and gas companies: The Act may impose new regulations or taxes on the industry, potentially reducing profits and competitiveness.\n",
      "2. Mining companies: Similar to oil and gas companies, mining operations might face increased regulatory burdens, taxes, or environmental restrictions, leading to financial losses.\n",
      "3. Refiners of raw cane sugar: The Act's provisions related to refined sugar imports could lead to increased costs or market disruptions for this industry.\n",
      "\n",
      "However, it is essential to note that these are speculative possibilities based on the limited information provided. Other groups, such as small businesses, farmers, or low-income households, might also be affected by the Act's provisions.\n",
      "\n",
      "To better understand which groups would be harmed most, I would recommend analyzing the specific provisions of the Act and their potential impacts on various industries and stakeholders.\n",
      "*** \n",
      "\n",
      "Question - Resulting from this Act, which groups would be harmed most?\n",
      "Context - Role: you are a person that enjoys recreating in public lands while living in Colorado \n",
      "\n",
      "Response: \n",
      " Based on the context provided, it appears that the Act in question is related to Public Lands and management of those lands. Considering your role as a person who enjoys recreating in public lands while living in Colorado, I would say that the groups most likely to be harmed by this Act are those directly involved with the management or use of these public lands.\n",
      "\n",
      "This could include outdoor recreationists such as yourself, hikers, campers, hunters, and other users of public lands. The changes to Public Lands and management procedures under the Act may affect the availability of land for recreational purposes, access restrictions, or even the overall user experience.\n",
      "\n",
      "Additionally, local communities and businesses that rely heavily on tourism and outdoor recreation may also be impacted by these changes. They could see a decrease in visitors, revenue, and economic activity if the public lands are managed in ways that limit access or create barriers to entry for recreational activities.\n",
      "*** \n",
      "\n",
      "Question - Resulting from this Act, which groups would benefit most?\n",
      "Context - Role: you are a staunch Democrat \n",
      "\n",
      "Response: \n",
      " Based on my knowledge of the Act and its provisions, I would say that the groups that would benefit most from this Act are:\n",
      "\n",
      "* Low-income individuals and families who are currently uninsured or underinsured\n",
      "* Individuals with chronic health conditions who struggle to access affordable healthcare\n",
      "* Children and families who rely on Medicaid for their healthcare needs\n",
      "* Veterans who have struggled to access affordable healthcare due to lack of coverage or high costs\n",
      "* Small business owners and entrepreneurs who would benefit from the expansion of the Affordable Care Act's marketplaces\n",
      "\n",
      "These groups would likely see significant improvements in their access to healthcare, affordability, and overall quality of life as a result of the Act's provisions.\n",
      "*** \n",
      "\n",
      "Question - Resulting from this Act, which groups would benefit most?\n",
      "Context - Role: you are a staunch Republican \n",
      "\n",
      "Response: \n",
      " The groups that would benefit most from this Act are those who receive energy assistance, particularly the elderly and disabled members of households. This is evident from the changes made to section 5(e)(6)(C)(iv)(1) of the Food and Nutrition Act of 2008, which now explicitly includes \"with an elderly or disabled member\" as a qualifying criterion for recipients of energy assistance.\n",
      "*** \n",
      "\n",
      "Question - Resulting from this Act, which groups would benefit most?\n",
      "Context - Role: you are a US citizen with no political affiliation \n",
      "\n",
      "Response: \n",
      " Based on the context of the provided text, it appears to be excerpts from a bill related to agriculture and commodities. If I had to infer which groups might benefit most from this Act, I would say that:\n",
      "\n",
      "1. Farmers and agricultural businesses: The amendments to sections 63, 1208, 1209, and 1204 seem to focus on improving market conditions for certain crops, such as upland cotton, rice, and other commodities.\n",
      "2. Rural communities: The Act's provisions on the deduction for farmers and ranchers may have a positive impact on rural communities that rely on agriculture.\n",
      "3. Small-scale producers: The changes in the pricing formula for certain commodities might benefit small-scale producers who compete with larger agricultural operations.\n",
      "\n",
      "However, it is essential to note that these are just educated guesses based on the text provided. The actual impact of this Act would depend on various factors, including its implementation, the specific provisions, and the broader economic context.\n",
      "*** \n",
      "\n",
      "Question - Resulting from this Act, which groups would benefit most?\n",
      "Context - Role: you are a wealthy investor with interests in oil, gas, and mining \n",
      "\n",
      "Response: \n",
      " Based on the provided text, it appears that the Act would benefit the following groups:\n",
      "\n",
      "1. Individuals who do not elect to itemize their charitable contributions: The Act amends Section 170(p) to increase the standard deduction for charitable contributions from $600 to $300.\n",
      "2. Qualified opportunity zone investors: The Act provides tax benefits for investments in qualified opportunity zones, including the ability to defer or offset gains on sales of property held for at least five years and certain businesses that meet certain requirements.\n",
      "3. Charitable organizations: The Act includes provisions related to the deduction for charitable contributions, which would benefit organizations that rely on donations from individuals.\n",
      "4. Mining and oil/gas companies: Although not explicitly stated, it is likely that the Act's provisions related to qualified opportunity zones could benefit companies involved in mining and oil/gas extraction if they meet certain requirements.\n",
      "\n",
      "However, without further information or context, it is difficult to say which group would benefit most from the Act.\n",
      "*** \n",
      "\n",
      "Question - Resulting from this Act, which groups would benefit most?\n",
      "Context - Role: you are a person that enjoys recreating in public lands while living in Colorado \n",
      "\n",
      "Response: \n",
      " Based on the content of the bill, it appears that the groups that would benefit most from the Act are:\n",
      "\n",
      "* Recreationalists and outdoor enthusiasts who enjoy activities such as hiking, camping, and exploring public lands in Colorado. This group is likely to see increased access and opportunities for recreation on public lands.\n",
      "* Private landowners and ranchers who have entered into long-term contracts with the Bureau of Land Management (BLM) under section 1 of the Materials Act of 1947. These contracts would provide a stable source of income for these landowners and allow them to manage their resources more effectively.\n",
      "* The Bureau of Land Management (BLM) itself, which would see an expansion of its authority and powers in managing public lands, including the ability to enter into long-term contracts with private entities.\n",
      "\n",
      "Overall, the Act appears to aim at promoting sustainable management of public lands, increasing access for recreational activities, and providing a more stable source of income for private landowners.\n"
     ]
    }
   ],
   "source": [
    "def iterate_response(q, context):\n",
    "\n",
    "    response = chain.invoke(input={'context': context, 'question': q})\n",
    "    \n",
    "    print('*** \\n')\n",
    "    print(f\"Question - {q}\")\n",
    "    print(f\"Context - {context} \\n\")\n",
    "    print(\"Response: \\n\", response)\n",
    "    \n",
    "\n",
    "q_list = ['Resulting from this Act, which groups would be harmed most?',\\\n",
    "          'Resulting from this Act, which groups would benefit most?']\n",
    "\n",
    "c_list = ['Role: you are a staunch Democrat',\\\n",
    "          'Role: you are a staunch Republican',\\\n",
    "          'Role: you are a US citizen with no political affiliation',\\\n",
    "          'Role: you are a wealthy investor with interests in oil, gas, and mining',\\\n",
    "          'Role: you are a person that enjoys recreating in public lands while living in Colorado']\n",
    "\n",
    "for combo in itertools.product(q_list, c_list):\n",
    "    iterate_response(q=combo[0], context=combo[1])"
   ]
  },
  {
   "cell_type": "code",
   "execution_count": null,
   "id": "c1eb23e4-0444-4a49-9039-309ca564abcd",
   "metadata": {},
   "outputs": [],
   "source": []
  }
 ],
 "metadata": {
  "kernelspec": {
   "display_name": "Python 3 (ipykernel)",
   "language": "python",
   "name": "python3"
  },
  "language_info": {
   "codemirror_mode": {
    "name": "ipython",
    "version": 3
   },
   "file_extension": ".py",
   "mimetype": "text/x-python",
   "name": "python",
   "nbconvert_exporter": "python",
   "pygments_lexer": "ipython3",
   "version": "3.13.5"
  }
 },
 "nbformat": 4,
 "nbformat_minor": 5
}
