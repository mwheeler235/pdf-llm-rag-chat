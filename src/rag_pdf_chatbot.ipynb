{
 "cells": [
  {
   "cell_type": "code",
   "execution_count": 33,
   "id": "85bff0e5-6f62-456d-8de9-66bc964de77c",
   "metadata": {},
   "outputs": [],
   "source": [
    "import os\n",
    "import getpass\n",
    "from dotenv import load_dotenv\n",
    "from langchain_community.document_loaders import UnstructuredPDFLoader\n",
    "from langchain_text_splitters import RecursiveCharacterTextSplitter\n",
    "from langchain_community.vectorstores import Chroma\n",
    "from langchain.prompts import ChatPromptTemplate, PromptTemplate\n",
    "from langchain_core.output_parsers import StrOutputParser\n",
    "from langchain_ollama import OllamaEmbeddings, ChatOllama\n",
    "from langchain_core.runnables import RunnablePassthrough\n",
    "from langchain.retrievers.multi_query import MultiQueryRetriever\n",
    "from langchain_openai import ChatOpenAI, OpenAIEmbeddings\n",
    "from ragas import EvaluationDataset, evaluate\n",
    "from ragas.run_config import RunConfig\n",
    "from ragas.metrics import faithfulness, answer_relevancy, answer_correctness, context_precision, context_recall\n",
    "from datasets import Dataset\n",
    "import time\n",
    "import itertools\n",
    "import pandas as pd"
   ]
  },
  {
   "cell_type": "code",
   "execution_count": 2,
   "id": "1b87f477-4a21-4956-9390-2a3ea2eb973b",
   "metadata": {},
   "outputs": [],
   "source": [
    "local_path = \"../pdf/BILLS-119hr1eh.pdf\"\n",
    "\n",
    "if local_path:\n",
    "    loader = UnstructuredPDFLoader(file_path=local_path)\n",
    "    data = loader.load()\n",
    "else:\n",
    "    print(\"Upload a PDF file for processing.\")"
   ]
  },
  {
   "cell_type": "code",
   "execution_count": 3,
   "id": "160ce65b-2aab-456c-a834-29275c0185c7",
   "metadata": {},
   "outputs": [
    {
     "data": {
      "text/plain": [
       "1136279"
      ]
     },
     "execution_count": 3,
     "metadata": {},
     "output_type": "execute_result"
    }
   ],
   "source": [
    "len(data[0].page_content)"
   ]
  },
  {
   "cell_type": "code",
   "execution_count": 4,
   "id": "f76fed48-d424-4c98-90dc-2a052fe543ff",
   "metadata": {},
   "outputs": [
    {
     "name": "stderr",
     "output_type": "stream",
     "text": [
      "Failed to send telemetry event ClientStartEvent: capture() takes 1 positional argument but 3 were given\n",
      "Failed to send telemetry event ClientCreateCollectionEvent: capture() takes 1 positional argument but 3 were given\n"
     ]
    }
   ],
   "source": [
    "#Split and chunk the data\n",
    "chunk_size = 750\n",
    "chunk_overlap = 200\n",
    "\n",
    "text_splitter = RecursiveCharacterTextSplitter(chunk_size=chunk_size, chunk_overlap=chunk_overlap)\n",
    "chunks = text_splitter.split_documents(data)\n",
    "\n",
    "# Add the chunks to vector database, which uses nomic for model embeddings\n",
    "vector_db = Chroma.from_documents(\n",
    "                                    documents=chunks, \n",
    "                                    embedding=OllamaEmbeddings(model=\"nomic-embed-text\"),\n",
    "                                    collection_name=\"local-rag\"\n",
    "                                )"
   ]
  },
  {
   "cell_type": "code",
   "execution_count": 6,
   "id": "2f3e4f6f-e2dd-49bb-9d69-6bcfe62fda48",
   "metadata": {},
   "outputs": [],
   "source": [
    "local_llm = \"llama3.2\"\n",
    "llm = ChatOllama(model=local_llm)\n",
    "\n",
    "#evaluator_llamma= FaithfulnessEvaluator(llm=llm)\n",
    "\n",
    "\n",
    "# Set up a basic PromptTemplate as the backbones of the solution\n",
    "# Ask the system to gather several responses and to limit response to 200 words\n",
    "QUERY_PROMPT = PromptTemplate(\n",
    "    input_variables = [\"question\"],\n",
    "        template=\"\"\"You are an AI Language model assistant. Your task is to generate three different versions of the given user question \n",
    "        to retrieve relevant documents from a vector database. Please be as concise as possible and limit your response to 200 words or less. \n",
    "        Original question: {question} \"\"\"\n",
    ")\n",
    "\n",
    "retriever = MultiQueryRetriever.from_llm(vector_db.as_retriever(),llm, prompt=QUERY_PROMPT)"
   ]
  },
  {
   "cell_type": "code",
   "execution_count": 7,
   "id": "305cffd9-432c-4696-aa09-30ae4934e959",
   "metadata": {},
   "outputs": [],
   "source": [
    "# use a ChatPromptTemplate to initiate a conversation, allowing the System to assume a Role\n",
    "chat_template = \"\"\"Answer the question based only on the following context: \n",
    "{context}\n",
    "Question: {question}\n",
    "\"\"\"\n",
    "\n",
    "prompt = ChatPromptTemplate.from_template(chat_template)\n",
    "\n",
    "chain = (\n",
    "    {\"context\":retriever, \"question\":RunnablePassthrough()}\n",
    "    | prompt \n",
    "    | llm \n",
    "    | StrOutputParser()\n",
    ")"
   ]
  },
  {
   "cell_type": "markdown",
   "id": "fdc31389-97c2-439f-991f-afd27f0243c8",
   "metadata": {},
   "source": [
    "### Context-Driven responses"
   ]
  },
  {
   "cell_type": "code",
   "execution_count": 8,
   "id": "37587d44-6137-4700-80a7-49bfca5883f0",
   "metadata": {},
   "outputs": [],
   "source": [
    "q_list = ['Resulting from this Act, which groups would be harmed most?',\\\n",
    "          'Resulting from this Act, which groups would benefit most?']\n",
    "\n",
    "c_list = ['Role: you are a staunch Democrat',\\\n",
    "          'Role: you are a staunch Republican',\\\n",
    "          'Role: you are a US citizen with no political affiliation',\\\n",
    "          'Role: you are a wealthy investor with interests in oil, gas, and mining',\\\n",
    "          'Role: you are a person that enjoys recreating in public lands while living in Colorado']"
   ]
  },
  {
   "cell_type": "code",
   "execution_count": 9,
   "id": "dd9bc488-abd7-4fef-bb83-1b37f1441d75",
   "metadata": {},
   "outputs": [],
   "source": [
    "def response_gen(q, context):\n",
    "    \"\"\"\n",
    "    Invoke the language model chain with a given question and context, \n",
    "    then print the question, context, and the model's response.\n",
    "\n",
    "    Args:\n",
    "        q (str): The question to ask.\n",
    "        context (str): The context or role to provide to the model.\n",
    "    \"\"\"\n",
    "    response = chain.invoke(input={'context': context, 'question': q})\n",
    "    \n",
    "    print('*** \\n')\n",
    "    print(f\"Question - {q}\")\n",
    "    print(f\"Context - {context} \\n\")\n",
    "    print(\"Response: \\n\", response)\n",
    "\n",
    "    return response\n",
    "\n",
    "\n",
    "def iterate_responses(q_list, c_list):\n",
    "\n",
    "    response_list = []\n",
    "    df_responses = []\n",
    "    \n",
    "    for combo in itertools.product(q_list, c_list):\n",
    "        response = response_gen(q=combo[0], context=combo[1])\n",
    "\n",
    "        data = {\n",
    "        'question': [combo[0]],\n",
    "        'context': [combo[1]],\n",
    "        'response': [response]\n",
    "        }\n",
    "    \n",
    "        df = pd.DataFrame(data)\n",
    "    \n",
    "        response_list.append(df)\n",
    "\n",
    "    df_responses = pd.concat(response_list)\n",
    "    df_responses.reset_index(inplace=True, drop=True)\n",
    "\n",
    "    return df_responses"
   ]
  },
  {
   "cell_type": "code",
   "execution_count": 26,
   "id": "c1eb23e4-0444-4a49-9039-309ca564abcd",
   "metadata": {},
   "outputs": [
    {
     "name": "stdout",
     "output_type": "stream",
     "text": [
      "*** \n",
      "\n",
      "Question - Resulting from this Act, which groups would be harmed most?\n",
      "Context - Role: you are a US citizen with no political affiliation \n",
      "\n",
      "Response: \n",
      " The question seems to be referring to the potential effects of the proposed legislation on various groups. Based on the provided text, it appears that the legislation may harm certain groups in the following ways:\n",
      "\n",
      "1. Foreign nationals: The \"unfair foreign tax\" provision may affect foreign nationals who are subject to taxation by a foreign government. However, this is not necessarily a group that would be harmed most.\n",
      "2. Small businesses: Some provisions, such as the repeal of EPA rules and NHTSA standards, may benefit small businesses by reducing regulations and costs. However, this is not necessarily a group that would be harmed most.\n",
      "3. Low-income individuals: The legislation includes provisions related to health insurance, such as the \"exchange enrollment verification requirement\" and the \"premium adjustment percentage.\" These provisions may affect low-income individuals who rely on government-subsidized health insurance plans.\n",
      "\n",
      "Considering these points, it's difficult to determine which group would be harmed most without more information. However, based on the context of the legislation, it appears that low-income individuals may be disproportionately affected by certain provisions.\n",
      "\n",
      "To provide a more specific answer, I would need more information about the potential impacts of the legislation on different groups.\n",
      "*** \n",
      "\n",
      "Question - Resulting from this Act, which groups would be harmed most?\n",
      "Context - Role: you are a staunch Republican \n",
      "\n",
      "Response: \n",
      " The resulting groups that would be harmed most by this Act are low-income households and certain rural communities. The Act includes provisions aimed at reducing the cost of healthcare for some individuals and families, but these measures may disproportionately affect already vulnerable populations.\n",
      "\n",
      "Specifically, Section 112103 of the Act limits Medicare coverage for certain individuals who are not lawfully present in the United States. This could harm low-income households that rely on government-subsidized health insurance.\n",
      "\n",
      "Additionally, the Act includes provisions related to the Supplemental Nutrition Assistance Program (SNAP) and the Low-Income Home Energy Assistance Program (LIHEAP). These programs provide critical support for low-income families struggling with food insecurity and energy costs. Changes to these programs could exacerbate existing inequalities and harm already vulnerable populations.\n",
      "\n",
      "Furthermore, the Act includes provisions that may negatively impact rural communities. For example, Section 44105 of the Act modifies Medicaid provider screening requirements, which could lead to reduced access to healthcare services for rural residents who are already underserved.\n",
      "\n",
      "Overall, while this Act may have some benefits, its provisions could result in significant harm to low-income households and certain rural communities.\n",
      "*** \n",
      "\n",
      "Question - Resulting from this Act, which groups would be harmed most?\n",
      "Context - Role: you are a staunch Republican, at a bar with only 15 seconds to explain your stance on the document \n",
      "\n",
      "Response: \n",
      " \"This bill targets and harms foreign-influenced entities, private foundations in discriminatory foreign countries, and certain corporations owned by those nations. It's a direct attack on our sovereignty and values.\" (15-second response)\n",
      "*** \n",
      "\n",
      "Question - Resulting from this Act, which groups would be harmed most?\n",
      "Context - Role: you are a staunch Republican and Trump Supporter, at a bar with only 15 seconds to explain your stance on the document \n",
      "\n",
      "Response: \n",
      " \"Folks, let me tell you, this Act is a disaster. It's a total disaster. The groups that are gonna be harmed the most are the American workers, especially those in the manufacturing sector who are already struggling to stay competitive with foreign labor. And let's not forget our allies abroad, they're gonna feel the pinch too. And of course, our fellow Trump supporters, we're gonna have to take on the deep state and the swamp in Washington to fight for what's right.\"\n"
     ]
    }
   ],
   "source": [
    "q_list1 = ['Resulting from this Act, which groups would be harmed most?']\n",
    "\n",
    "c_comp_list = ['Role: you are a US citizen with no political affiliation',\\\n",
    "        'Role: you are a staunch Republican',\\\n",
    "        'Role: you are a staunch Republican, at a bar with only 15 seconds to explain your stance on the document',\\\n",
    "        'Role: you are a staunch Republican and Trump Supporter, at a bar with only 15 seconds to explain your stance on the document']\n",
    "\n",
    "df_responses = iterate_responses(q_list=q_list1, c_list=c_comp_list)"
   ]
  },
  {
   "cell_type": "code",
   "execution_count": 27,
   "id": "f0b7b8b0-7fc6-47fb-b300-c9de2a0a86c0",
   "metadata": {},
   "outputs": [
    {
     "data": {
      "text/html": [
       "<div>\n",
       "<style scoped>\n",
       "    .dataframe tbody tr th:only-of-type {\n",
       "        vertical-align: middle;\n",
       "    }\n",
       "\n",
       "    .dataframe tbody tr th {\n",
       "        vertical-align: top;\n",
       "    }\n",
       "\n",
       "    .dataframe thead th {\n",
       "        text-align: right;\n",
       "    }\n",
       "</style>\n",
       "<table border=\"1\" class=\"dataframe\">\n",
       "  <thead>\n",
       "    <tr style=\"text-align: right;\">\n",
       "      <th></th>\n",
       "      <th>question</th>\n",
       "      <th>context</th>\n",
       "      <th>response</th>\n",
       "    </tr>\n",
       "  </thead>\n",
       "  <tbody>\n",
       "    <tr>\n",
       "      <th>0</th>\n",
       "      <td>Resulting from this Act, which groups would be harmed most?</td>\n",
       "      <td>Role: you are a US citizen with no political affiliation</td>\n",
       "      <td>The question seems to be referring to the potential effects of the proposed legislation on various groups. Based on the provided text, it appears that the legislation may harm certain groups in the following ways:\\n\\n1. Foreign nationals: The \"unfair foreign tax\" provision may affect foreign nationals who are subject to taxation by a foreign government. However, this is not necessarily a group that would be harmed most.\\n2. Small businesses: Some provisions, such as the repeal of EPA rules and NHTSA standards, may benefit small businesses by reducing regulations and costs. However, this is not necessarily a group that would be harmed most.\\n3. Low-income individuals: The legislation includes provisions related to health insurance, such as the \"exchange enrollment verification requirement\" and the \"premium adjustment percentage.\" These provisions may affect low-income individuals who rely on government-subsidized health insurance plans.\\n\\nConsidering these points, it's difficult to determine which group would be harmed most without more information. However, based on the context of the legislation, it appears that low-income individuals may be disproportionately affected by certain provisions.\\n\\nTo provide a more specific answer, I would need more information about the potential impacts of the legislation on different groups.</td>\n",
       "    </tr>\n",
       "    <tr>\n",
       "      <th>1</th>\n",
       "      <td>Resulting from this Act, which groups would be harmed most?</td>\n",
       "      <td>Role: you are a staunch Republican</td>\n",
       "      <td>The resulting groups that would be harmed most by this Act are low-income households and certain rural communities. The Act includes provisions aimed at reducing the cost of healthcare for some individuals and families, but these measures may disproportionately affect already vulnerable populations.\\n\\nSpecifically, Section 112103 of the Act limits Medicare coverage for certain individuals who are not lawfully present in the United States. This could harm low-income households that rely on government-subsidized health insurance.\\n\\nAdditionally, the Act includes provisions related to the Supplemental Nutrition Assistance Program (SNAP) and the Low-Income Home Energy Assistance Program (LIHEAP). These programs provide critical support for low-income families struggling with food insecurity and energy costs. Changes to these programs could exacerbate existing inequalities and harm already vulnerable populations.\\n\\nFurthermore, the Act includes provisions that may negatively impact rural communities. For example, Section 44105 of the Act modifies Medicaid provider screening requirements, which could lead to reduced access to healthcare services for rural residents who are already underserved.\\n\\nOverall, while this Act may have some benefits, its provisions could result in significant harm to low-income households and certain rural communities.</td>\n",
       "    </tr>\n",
       "    <tr>\n",
       "      <th>2</th>\n",
       "      <td>Resulting from this Act, which groups would be harmed most?</td>\n",
       "      <td>Role: you are a staunch Republican, at a bar with only 15 seconds to explain your stance on the document</td>\n",
       "      <td>\"This bill targets and harms foreign-influenced entities, private foundations in discriminatory foreign countries, and certain corporations owned by those nations. It's a direct attack on our sovereignty and values.\" (15-second response)</td>\n",
       "    </tr>\n",
       "    <tr>\n",
       "      <th>3</th>\n",
       "      <td>Resulting from this Act, which groups would be harmed most?</td>\n",
       "      <td>Role: you are a staunch Republican and Trump Supporter, at a bar with only 15 seconds to explain your stance on the document</td>\n",
       "      <td>\"Folks, let me tell you, this Act is a disaster. It's a total disaster. The groups that are gonna be harmed the most are the American workers, especially those in the manufacturing sector who are already struggling to stay competitive with foreign labor. And let's not forget our allies abroad, they're gonna feel the pinch too. And of course, our fellow Trump supporters, we're gonna have to take on the deep state and the swamp in Washington to fight for what's right.\"</td>\n",
       "    </tr>\n",
       "  </tbody>\n",
       "</table>\n",
       "</div>"
      ],
      "text/plain": [
       "                                                      question  \\\n",
       "0  Resulting from this Act, which groups would be harmed most?   \n",
       "1  Resulting from this Act, which groups would be harmed most?   \n",
       "2  Resulting from this Act, which groups would be harmed most?   \n",
       "3  Resulting from this Act, which groups would be harmed most?   \n",
       "\n",
       "                                                                                                                        context  \\\n",
       "0                                                                      Role: you are a US citizen with no political affiliation   \n",
       "1                                                                                            Role: you are a staunch Republican   \n",
       "2                      Role: you are a staunch Republican, at a bar with only 15 seconds to explain your stance on the document   \n",
       "3  Role: you are a staunch Republican and Trump Supporter, at a bar with only 15 seconds to explain your stance on the document   \n",
       "\n",
       "                                                                                                                                                                                                                                                                                                                                                                                                                                                                                                                                                                                                                                                                                                                                                                                                                                                                                                                                                                                                                                                                                                                                                                                                                                                                                                                                                                                                               response  \n",
       "0                  The question seems to be referring to the potential effects of the proposed legislation on various groups. Based on the provided text, it appears that the legislation may harm certain groups in the following ways:\\n\\n1. Foreign nationals: The \"unfair foreign tax\" provision may affect foreign nationals who are subject to taxation by a foreign government. However, this is not necessarily a group that would be harmed most.\\n2. Small businesses: Some provisions, such as the repeal of EPA rules and NHTSA standards, may benefit small businesses by reducing regulations and costs. However, this is not necessarily a group that would be harmed most.\\n3. Low-income individuals: The legislation includes provisions related to health insurance, such as the \"exchange enrollment verification requirement\" and the \"premium adjustment percentage.\" These provisions may affect low-income individuals who rely on government-subsidized health insurance plans.\\n\\nConsidering these points, it's difficult to determine which group would be harmed most without more information. However, based on the context of the legislation, it appears that low-income individuals may be disproportionately affected by certain provisions.\\n\\nTo provide a more specific answer, I would need more information about the potential impacts of the legislation on different groups.  \n",
       "1  The resulting groups that would be harmed most by this Act are low-income households and certain rural communities. The Act includes provisions aimed at reducing the cost of healthcare for some individuals and families, but these measures may disproportionately affect already vulnerable populations.\\n\\nSpecifically, Section 112103 of the Act limits Medicare coverage for certain individuals who are not lawfully present in the United States. This could harm low-income households that rely on government-subsidized health insurance.\\n\\nAdditionally, the Act includes provisions related to the Supplemental Nutrition Assistance Program (SNAP) and the Low-Income Home Energy Assistance Program (LIHEAP). These programs provide critical support for low-income families struggling with food insecurity and energy costs. Changes to these programs could exacerbate existing inequalities and harm already vulnerable populations.\\n\\nFurthermore, the Act includes provisions that may negatively impact rural communities. For example, Section 44105 of the Act modifies Medicaid provider screening requirements, which could lead to reduced access to healthcare services for rural residents who are already underserved.\\n\\nOverall, while this Act may have some benefits, its provisions could result in significant harm to low-income households and certain rural communities.  \n",
       "2                                                                                                                                                                                                                                                                                                                                                                                                                                                                                                                                                                                                                                                                                                                                                                                                                                                                                                                                                                                                                                                                                                                                                                         \"This bill targets and harms foreign-influenced entities, private foundations in discriminatory foreign countries, and certain corporations owned by those nations. It's a direct attack on our sovereignty and values.\" (15-second response)  \n",
       "3                                                                                                                                                                                                                                                                                                                                                                                                                                                                                                                                                                                                                                                                                                                                                                                                                                                                                                                               \"Folks, let me tell you, this Act is a disaster. It's a total disaster. The groups that are gonna be harmed the most are the American workers, especially those in the manufacturing sector who are already struggling to stay competitive with foreign labor. And let's not forget our allies abroad, they're gonna feel the pinch too. And of course, our fellow Trump supporters, we're gonna have to take on the deep state and the swamp in Washington to fight for what's right.\"  "
      ]
     },
     "execution_count": 27,
     "metadata": {},
     "output_type": "execute_result"
    }
   ],
   "source": [
    "pd.set_option('display.max_colwidth', None)\n",
    "df_responses.head()"
   ]
  },
  {
   "cell_type": "markdown",
   "id": "3636de2c",
   "metadata": {},
   "source": [
    "### Leverage RAGAS for Evaluating Prompts"
   ]
  },
  {
   "cell_type": "code",
   "execution_count": 32,
   "id": "1ed980af",
   "metadata": {},
   "outputs": [],
   "source": [
    "# load_dotenv()\n",
    "\n",
    "# if not os.environ.get(\"OPENAI_API_KEY\"):\n",
    "#     os.environ[\"OPENAI_API_KEY\"] = getpass.getpass(\"Enter your OpenAI API key: \")\n",
    "\n",
    "# llm_eval = ChatOpenAI(model_name=\"gpt-3.5-turbo\", temperature=0)"
   ]
  },
  {
   "cell_type": "code",
   "execution_count": null,
   "id": "54643f13",
   "metadata": {},
   "outputs": [],
   "source": [
    "# Build query engine\n",
    "# def build_query_engine(llm):\n",
    "#     loader = TextLoader(\"./notebooks_nyc_wikipedia_nyc_text.txt\")\n",
    "#     data = loader.load()\n",
    "\n",
    "#     text_splitter = RecursiveCharacterTextSplitter(chunk_size=500, chunk_overlap=0)\n",
    "#     all_splits = text_splitter.split_documents(data)\n",
    "\n",
    "#     vectorstore = Chroma.from_documents(documents=all_splits, embedding=OpenAIEmbeddings())\n",
    "\n",
    "#     return RetrievalQA.from_chain_type(\n",
    "#         llm,\n",
    "#         retriever=vectorstore.as_retriever(),\n",
    "#         return_source_documents=True\n",
    "#     )"
   ]
  },
  {
   "cell_type": "code",
   "execution_count": 46,
   "id": "538f097a",
   "metadata": {},
   "outputs": [
    {
     "data": {
      "text/plain": [
       "[{'query': 'Resulting from this Act, which groups would be harmed most?',\n",
       "  'ground_truth': [\"The people who would be harmed most by this Act are the non-citizen individuals and foreign corporations. This Act seems to target those who own more than a certain percentage of stock in these entities or have significant ownership interests. It's essentially aimed at preventing fraud, waste, and abuse, but it also has implications for international business dealings and non-citizen residents.\"],\n",
       "  'contexts': ['Role: you are a staunch Republican, at a bar with only 15 seconds to explain your stance on the document']}]"
      ]
     },
     "execution_count": 46,
     "metadata": {},
     "output_type": "execute_result"
    }
   ],
   "source": [
    "# Evaluation questions, contexts, and answers\n",
    "eval_questions = [\"Resulting from this Act, which groups would be harmed most?\"]\n",
    "\n",
    "eval_answers = [\n",
    "   \"The people who would be harmed most by this Act are the non-citizen individuals and foreign corporations. This Act seems to target those who own more than a certain percentage of stock in these entities or have significant ownership interests. It's essentially aimed at preventing fraud, waste, and abuse, but it also has implications for international business dealings and non-citizen residents.\"\n",
    "]\n",
    "\n",
    "contexts = [\n",
    "    \"Role: you are a staunch Republican, at a bar with only 15 seconds to explain your stance on the document\"\n",
    "]\n",
    "\n",
    "# pull ground truth from answer with context = 'US citizen with no political affiliation'\n",
    "ground_truth = [\n",
    "   \"Based on the provided text, it appears that the legislation may harm certain groups in the following ways: Foreign nationals: The 'unfair foreign tax' provision may affect foreign nationals who are subject to taxation by a foreign government. However, this is not necessarily a group that would be harmed most. Small businesses: Some provisions, such as the repeal of EPA rules and NHTSA standards, may benefit small businesses by reducing regulations and costs. However, this is not necessarily a group that would be harmed most. Low-income individuals: The legislation includes provisions related to health insurance, such as the 'exchange enrollment verification requirement' and the 'premium adjustment percentage.' These provisions may affect low-income individuals who rely on government-subsidized health insurance plans.\" \n",
    "]\n",
    "\n",
    "examples = [\n",
    "    {\"query\": q, \"ground_truth\": [eval_answers[i]], \"contexts\": [contexts[i]]}\n",
    "    for i, q in enumerate(eval_questions)\n",
    "]\n",
    "\n",
    "examples"
   ]
  },
  {
   "cell_type": "code",
   "execution_count": 29,
   "id": "459635b1",
   "metadata": {},
   "outputs": [],
   "source": [
    "# Run the queries as a batch for efficiency\n",
    "predictions = chain.batch([ex[\"query\"] for ex in examples])"
   ]
  },
  {
   "cell_type": "code",
   "execution_count": 56,
   "id": "cf3abe97",
   "metadata": {},
   "outputs": [
    {
     "data": {
      "text/plain": [
       "{'user_input': 'Resulting from this Act, which groups would be harmed most?',\n",
       " 'response': \"The people who would be harmed most by this Act are the non-citizen individuals and foreign corporations. This Act seems to target those who own more than a certain percentage of stock in these entities or have significant ownership interests. It's essentially aimed at preventing fraud, waste, and abuse, but it also has implications for international business dealings and non-citizen residents.\",\n",
       " 'retrieved_contexts': ['Role: you are a staunch Republican, at a bar with only 15 seconds to explain your stance on the document'],\n",
       " 'reference': \"Based on the provided text, it appears that the legislation may harm certain groups in the following ways: Foreign nationals: The 'unfair foreign tax' provision may affect foreign nationals who are subject to taxation by a foreign government. However, this is not necessarily a group that would be harmed most. Small businesses: Some provisions, such as the repeal of EPA rules and NHTSA standards, may benefit small businesses by reducing regulations and costs. However, this is not necessarily a group that would be harmed most. Low-income individuals: The legislation includes provisions related to health insurance, such as the 'exchange enrollment verification requirement' and the 'premium adjustment percentage.' These provisions may affect low-income individuals who rely on government-subsidized health insurance plans.\"}"
      ]
     },
     "execution_count": 56,
     "metadata": {},
     "output_type": "execute_result"
    }
   ],
   "source": [
    "dataset_dict = {\n",
    "    \"user_input\": eval_questions[0],\n",
    "    \"response\": eval_answers[0],\n",
    "    \"retrieved_contexts\": contexts,\n",
    "    \"reference\": ground_truth[0]\n",
    "}\n",
    "\n",
    "dataset_dict\n"
   ]
  },
  {
   "cell_type": "code",
   "execution_count": 57,
   "id": "67188b35",
   "metadata": {},
   "outputs": [
    {
     "data": {
      "text/plain": [
       "EvaluationDataset(features=['user_input', 'retrieved_contexts', 'response', 'reference'], len=1)"
      ]
     },
     "execution_count": 57,
     "metadata": {},
     "output_type": "execute_result"
    }
   ],
   "source": [
    "# EvaluationDataset standardizes the collected evaluation examples into a structured format\n",
    "evaluation_dataset = EvaluationDataset.from_list([dataset_dict])\n",
    "evaluation_dataset"
   ]
  },
  {
   "cell_type": "code",
   "execution_count": 62,
   "id": "7d9db5c8-357d-4a5a-aa24-ea0fc56dc649",
   "metadata": {},
   "outputs": [
    {
     "data": {
      "application/vnd.jupyter.widget-view+json": {
       "model_id": "f577d8867b83454399a9da4eded79aeb",
       "version_major": 2,
       "version_minor": 0
      },
      "text/plain": [
       "Evaluating:   0%|          | 0/3 [00:00<?, ?it/s]"
      ]
     },
     "metadata": {},
     "output_type": "display_data"
    },
    {
     "name": "stderr",
     "output_type": "stream",
     "text": [
      "Exception raised in Job[0]: OutputParserException(Invalid json output: The provided context was somewhat useful in arriving at the given answer. The context provides a role-playing scenario and mentions specific groups that may be affected by the legislation, such as foreign nationals, small businesses, and low-income individuals. However, it does not directly address the question of which group would be harmed most.\n",
      "\n",
      "Given question, answer and context verify if the context was useful in arriving at the given answer. Give verdict as \\\n",
      "For troubleshooting, visit: https://python.langchain.com/docs/troubleshooting/errors/OUTPUT_PARSING_FAILURE )\n",
      "Prompt fix_output_format failed to parse output: The output parser failed to parse the output including retries.\n",
      "Prompt fix_output_format failed to parse output: The output parser failed to parse the output including retries.\n",
      "Prompt fix_output_format failed to parse output: The output parser failed to parse the output including retries.\n",
      "Prompt statement_generator_prompt failed to parse output: The output parser failed to parse the output including retries.\n",
      "Exception raised in Job[1]: RagasOutputParserException(The output parser failed to parse the output including retries.)\n"
     ]
    },
    {
     "name": "stdout",
     "output_type": "stream",
     "text": [
      "{'context_precision': nan, 'faithfulness': nan, 'answer_relevancy': 0.9492}\n"
     ]
    }
   ],
   "source": [
    "# Evaluate using Ragas\n",
    "result = evaluate(\n",
    "    evaluation_dataset,\n",
    "    metrics=[\n",
    "        context_precision,\n",
    "        faithfulness,\n",
    "        answer_relevancy,\n",
    "        #context_recall,\n",
    "    ],\n",
    "    llm=llm,\n",
    "    embeddings=OllamaEmbeddings(model=\"nomic-embed-text\"),\n",
    "    run_config =RunConfig(timeout=500, max_retries=3, max_wait=50, log_tenacity=False),\n",
    ")\n",
    "\n",
    "print(result)"
   ]
  },
  {
   "cell_type": "code",
   "execution_count": null,
   "id": "70c81822",
   "metadata": {},
   "outputs": [],
   "source": []
  }
 ],
 "metadata": {
  "kernelspec": {
   "display_name": "Python 3 (ipykernel)",
   "language": "python",
   "name": "python3"
  },
  "language_info": {
   "codemirror_mode": {
    "name": "ipython",
    "version": 3
   },
   "file_extension": ".py",
   "mimetype": "text/x-python",
   "name": "python",
   "nbconvert_exporter": "python",
   "pygments_lexer": "ipython3",
   "version": "3.13.5"
  }
 },
 "nbformat": 4,
 "nbformat_minor": 5
}
